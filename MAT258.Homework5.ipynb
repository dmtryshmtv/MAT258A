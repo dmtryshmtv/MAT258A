{
 "cells": [
  {
   "cell_type": "markdown",
   "metadata": {},
   "source": [
    "# Problem 1\n",
    "\n",
    "Consider the standard linear program over the polyhedron $P = \\{ x | Ax=b, x \\geq 0 \\}$. Suppose that $A$ is $m \\times n$ and is full rank. Answer true or false for each and justify. \n",
    "\n",
    "a) If $n = m+1$, then $P$ has at most two basic feasible solutions.\n",
    "\n",
    "b) The set of all optimal solutions is bounded.\n",
    "\n",
    "c) At every optimal solution, no more than $m$ variables are positive.\n",
    "\n",
    "d) If there is more than one optimal solution, then there are uncountably many optimal solutions.\n",
    "\n",
    "e) If there are several optimal solutions, then there exist at least two basic feasible solutions that are optimal. \n",
    "\n",
    "f) Consider optimizing the problem $\\min \\max \\{c^T x, d^T x \\}$ over $P$. An optimal solution of this problem must be an extreme point of $P$."
   ]
  },
  {
   "cell_type": "code",
   "execution_count": null,
   "metadata": {
    "collapsed": true
   },
   "outputs": [],
   "source": []
  },
  {
   "cell_type": "markdown",
   "metadata": {},
   "source": [
    "# Solution\n",
    "\n",
    "a) False: $P$ should have at most $n=m+1$ basic feasible solutions, one for each swap of the very last column of $A$ with one of the initial basic columns. \n",
    "\n",
    "b) False. Consider the problem \n",
    "\n",
    "$$\\min (1,0)\\cdot (x_1,x_2)$$\n",
    "\n",
    "with $A = (1,0)$ and $b = 1$. This has an unbounded set of optimal solutions $\\alpha (0,1)$ with $\\alpha > 0$. \n",
    "\n",
    "c) False. Consider the problem \n",
    "\n",
    "$$\\min (1,1,1) \\cdot (x_1,x_2,x_3)$$\n",
    "\n",
    "with $A = \\begin{bmatrix}\n",
    "    1 & 0 & 0\\\\\n",
    "    0 & 1 & 1\\\\\n",
    "\\end{bmatrix}$\n",
    "and $b = (2,1)$. This constrains $(x_1,x_2,x_3) = (2,x_2,x_3)$ with $x_2 + x_3 = 1$. On this constraint, the objective function is always equal to 3 and has solutions with $3 > m$ variables active (such as $(2,0.5,0.5)$).\n",
    "\n",
    "d) True. If $x_1^*$ and $x_2^*$ are two distinct optimal solutions then, $\\alpha x_1^* + (1-\\alpha)x_2^*$ is a solution, for any $\\alpha \\in (0,1)$. We can check this easily. Suppose that $c^T x_1^* = c^T x_2^* = K$, then $c^T (\\alpha x_1^* + (1-\\alpha)x_2^*) = \\alpha K + (1-\\alpha) K = K$, so the value attained is the same. Finally, we check that it still satisfies the linear constraint: $A (\\alpha x_1^* + (1-\\alpha)x_2^*) = \\alpha b + (1-\\alpha) b = b$. \n",
    "\n",
    "e) True, since optimal LP solutions can be found on the vertices of the polytope, which are basic feasible points. If there are at least two optimal solutions, then these solutions lie on an edge connecting two optimal basic feasible points.\n",
    "\n",
    "f) False: if $c = \\alpha d$ and say, $\\alpha > 1$, and $A = c$ and $b=2$, then the problem becomes $\\min c^T x$ with the solution set being a line, (say $c=(1,1)$) which is not an extreme point of $P$."
   ]
  },
  {
   "cell_type": "markdown",
   "metadata": {},
   "source": [
    "# Problem 2\n",
    "\n",
    "Consider the simplex method applied to a standard LP and assume that the rows of $A$ are linearly independent. Prove or give counter-example for each statement.\n",
    "\n",
    "a) An iteration of the simplex method may move the feasible solution by a positive distance while leaving the cost unchanged.\n",
    "\n",
    "b) A variable that has just left the basis cannot reenter in the very next iteration.\n",
    "\n",
    "c) A variable that has just entered the basis cannot leave in the very next iteration.\n",
    "\n",
    "d) If there is a nondegenerate optimal basis, then there exists a unique optimal basis.\n",
    "\n",
    "e) If $x$ is an optimal solution found by the simplex method, no more than $m$ of its components can be positive, where $m$ is the number of equality constraints."
   ]
  },
  {
   "cell_type": "markdown",
   "metadata": {},
   "source": [
    "# Solution\n",
    "\n",
    "a) False. If the basis $\\mathcal{B}$ is nondegenerate at every step, then we are guaranteed that $xq > 0$, so the strict decrease of the objective function $c^T x$ is assured.\n",
    "\n",
    "b) True. Re-entering a variable that just left would constitute a reversal of the previous step, decreasing the objective function.\n",
    "\n",
    "c) False. The just-entered variable could be replaced by another inactive variable, not being replaced by the one that just left, thereby not reversing the objective function decrease.\n",
    "\n",
    "d) True. If the optimal basis is non-degenerate, then there are no zero values in $x_\\mathcal{B}$, which guarantees that we can't bring any of the non-active variables in without decreasing the objective function. Thus, the basis is unique.\n",
    "\n",
    "e) True. The simplex method always seeks vertex points of the polytope, which correspond to a particular solution of $A_\\mathcal{B}x_B = b$, for some $\\mathcal{B}$, with the rest of $x$, $x_N = 0$."
   ]
  },
  {
   "cell_type": "code",
   "execution_count": null,
   "metadata": {
    "collapsed": true
   },
   "outputs": [],
   "source": []
  }
 ],
 "metadata": {
  "kernelspec": {
   "display_name": "Julia 0.4.0",
   "language": "julia",
   "name": "julia-0.4"
  },
  "language_info": {
   "file_extension": ".jl",
   "mimetype": "application/julia",
   "name": "julia",
   "version": "0.4.0"
  }
 },
 "nbformat": 4,
 "nbformat_minor": 0
}
