{
 "cells": [
  {
   "cell_type": "code",
   "execution_count": 1,
   "metadata": {
    "collapsed": false
   },
   "outputs": [
    {
     "name": "stderr",
     "output_type": "stream",
     "text": [
      "Qt: Untested Windows version 10.0 detected!\r\n"
     ]
    }
   ],
   "source": [
    "using PyPlot\n",
    "using MathProgBase"
   ]
  },
  {
   "cell_type": "markdown",
   "metadata": {},
   "source": [
    "# Problem 1\n",
    "\n",
    "Show that a projection has $\\| P \\|_2 \\geq 1$.\n",
    "\n",
    "Show that $\\| P \\|_2 = 1$ holds iff $P$ is an orthogonal projection.\n",
    "\n",
    "\n",
    "## Solution\n",
    "For the first claim, note that a projection $P$ has $P*P = P$. Therefore, $\\|P\\| = \\|P^2\\| \\leq \\|P\\| \\|P\\|$ which implies $1 \\leq \\|P\\|$.\n",
    "\n",
    "For the second claim, consider the (<=) direction. It is enough to show that if $\\| P \\|_2 > 1$, then $\\exist v$ with $Pv = \\sigma u$ with $\\sigma > 1$. But $P (\\sigma u) = Pv = \\sigma u$"
   ]
  },
  {
   "cell_type": "markdown",
   "metadata": {},
   "source": [
    "# Problem 2"
   ]
  },
  {
   "cell_type": "markdown",
   "metadata": {},
   "source": [
    "# Problem 3"
   ]
  },
  {
   "cell_type": "markdown",
   "metadata": {},
   "source": [
    "# Problem 4"
   ]
  },
  {
   "cell_type": "markdown",
   "metadata": {},
   "source": [
    "# Problem 5"
   ]
  },
  {
   "cell_type": "code",
   "execution_count": null,
   "metadata": {
    "collapsed": true
   },
   "outputs": [],
   "source": []
  }
 ],
 "metadata": {
  "kernelspec": {
   "display_name": "Julia 0.4.0",
   "language": "julia",
   "name": "julia-0.4"
  },
  "language_info": {
   "file_extension": ".jl",
   "mimetype": "application/julia",
   "name": "julia",
   "version": "0.4.0"
  }
 },
 "nbformat": 4,
 "nbformat_minor": 0
}
