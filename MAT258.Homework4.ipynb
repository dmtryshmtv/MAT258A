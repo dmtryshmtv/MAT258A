{
 "cells": [
  {
   "cell_type": "code",
   "execution_count": 17,
   "metadata": {
    "collapsed": false
   },
   "outputs": [
    {
     "name": "stderr",
     "output_type": "stream",
     "text": [
      "Qt: Untested Windows version 10.0 detected!\r\n"
     ]
    }
   ],
   "source": [
    "using PyPlot"
   ]
  },
  {
   "cell_type": "markdown",
   "metadata": {},
   "source": [
    "# Problem 1\n",
    "Develop a Newton's method to approximate $e^{-1}$ that does not involve division. Start at $x_0 = 0.3$ and run this thing.\n",
    "\n",
    "## Solution: \n",
    "Using $f(x) = \\log(\\frac{x}{d})$, we obtain the iterative method: \n",
    "\n",
    "$$x^{k+1} = x^k - (\\log(x^k) - \\log(d)) x^k$$\n",
    "\n",
    "Now, we run it."
   ]
  },
  {
   "cell_type": "markdown",
   "metadata": {},
   "source": [
    "I don't see any significant differences between the two $x_0$ runs. One takes longer than the other?"
   ]
  },
  {
   "cell_type": "code",
   "execution_count": 22,
   "metadata": {
    "collapsed": false
   },
   "outputs": [
    {
     "name": "stdout",
     "output_type": "stream",
     "text": [
      "The approximation:   2.718282\n",
      "The error:   0.000000\n",
      "Iterations:     6\n"
     ]
    }
   ],
   "source": [
    "x0 = 0.3\n",
    "x = Float64[]\n",
    "push!(x,x0)\n",
    "push!(x, x[end] - x[end]*(log(x[end]) - log(d)))\n",
    "d = e\n",
    "eps = 1.0e-8\n",
    "its = 0\n",
    "\n",
    "while abs(x[end] - x[end-1]) > eps\n",
    "    push!(x, x[end] - x[end]*(log(x[end]) - log(d)))\n",
    "    its += 1\n",
    "end\n",
    "\n",
    "@printf \"The approximation: %10f\\n\" x[end]\n",
    "@printf \"The error: %10f\\n\" abs(x[end] - e)\n",
    "@printf \"Iterations: %5d\\n\" its"
   ]
  },
  {
   "cell_type": "code",
   "execution_count": 23,
   "metadata": {
    "collapsed": false
   },
   "outputs": [
    {
     "name": "stdout",
     "output_type": "stream",
     "text": [
      "The approximation:   2.718282\n",
      "The error:   0.000000\n",
      "Iterations:     5\n"
     ]
    }
   ],
   "source": [
    "x0 = 1.0\n",
    "x = Float64[]\n",
    "push!(x,x0)\n",
    "push!(x, x[end] - x[end]*(log(x[end]) - log(d)))\n",
    "d = e\n",
    "eps = 1.0e-8\n",
    "its = 0\n",
    "\n",
    "while abs(x[end] - x[end-1]) > eps\n",
    "    push!(x, x[end] - x[end]*(log(x[end]) - log(d)))\n",
    "    its += 1\n",
    "end\n",
    "\n",
    "@printf \"The approximation: %10f\\n\" x[end]\n",
    "@printf \"The error: %10f\\n\" abs(x[end] - e)\n",
    "@printf \"Iterations: %5d\\n\" its"
   ]
  },
  {
   "cell_type": "markdown",
   "metadata": {},
   "source": [
    "# Problem 2\n",
    "a) Newton's method on $f(x) = x^q$. What's the convergence ratio there?\n",
    "\n",
    "b) Apply Newton's method to minimize $f(x) = \\| x \\|_2^\\beta$. For what $x_0$ and $\\beta$ does it converge? What happens when $\\beta \\leq 1$?\n",
    "\n",
    "c) Repeat part b, but with Armijo linesearch. \n",
    "\n",
    "## Solution\n",
    "a) If we apply the straight root-finding method, then we have this iterative method:\n",
    "\n",
    "$$x^{k+1} = x^k - \\frac{f(x)}{f'(x)} = x^k - \\frac{(x^k)^q}{q(x^k)^{q-1}}$$\n",
    "\n",
    "$$= x^k - \\frac{1}{q}x^k = x^k (1 - \\frac{1}{q})$$\n",
    "\n",
    "Therefore the method is Q-linear, with $\\mu = 1 - \\frac{1}{q}$. \n",
    "\n",
    "If we apply the method instead to the derivative, then through the same procedure we obtain $\\mu = 1 - \\frac{1}{q-1}$.\n",
    "\n",
    "\n",
    "b) The method is implemented in the next code box. The following values of $\\beta$ don't converge: 2,4. It's not entirely clear to me which x-values converged and which didn't."
   ]
  },
  {
   "cell_type": "code",
   "execution_count": 56,
   "metadata": {
    "collapsed": false,
    "scrolled": true
   },
   "outputs": [
    {
     "data": {
      "text/plain": [
       "H (generic function with 1 method)"
      ]
     },
     "execution_count": 56,
     "metadata": {},
     "output_type": "execute_result"
    }
   ],
   "source": [
    "function f(x,b)\n",
    "    return norm(x,2)^b\n",
    "end\n",
    "\n",
    "function g(x,b)\n",
    "    return x*b*norm(x,2)^(b-2)\n",
    "end\n",
    "\n",
    "function H(x,b)\n",
    "    return b*((b-2)*norm(x,2)^(b-4)*x*x' + norm(x,2)^(b-2)*ones(size(x))*ones(size(x))')\n",
    "end"
   ]
  },
  {
   "cell_type": "code",
   "execution_count": 142,
   "metadata": {
    "collapsed": false
   },
   "outputs": [
    {
     "name": "stdout",
     "output_type": "stream",
     "text": [
      "Iteration:  1 | Beta: 2.00 | Starting norm: 23.6898 | x-norm: 216490987487800151536161307619514856200384544768.0000\n",
      "\n",
      "Iteration:  2 | Beta: 2.00 | Starting norm: 27.4912 | x-norm: 247190634509125503673258390417833169621587329024.0000\n",
      "\n",
      "Iteration:  3 | Beta: 2.00 | Starting norm: 16.9152 | x-norm: 134675330029214103550768570323400256974175076352.0000\n",
      "\n",
      "Iteration:  4 | Beta: 2.00 | Starting norm: 30.9686 | x-norm: 292439090084129146604804161847544770923002331136.0000\n",
      "\n",
      "Iteration:  5 | Beta: 2.00 | Starting norm: 29.1641 | x-norm: 265845187141827010973203145132181853286059474944.0000\n",
      "\n",
      "Iteration:  6 | Beta: 2.00 | Starting norm: 9.7269 | x-norm: 87300760469436022203221086922375698265118081024.0000\n",
      "\n",
      "Iteration:  7 | Beta: 2.00 | Starting norm: 25.0673 | x-norm: 235666402632398449102159876263025313607613153280.0000\n",
      "\n",
      "Iteration:  8 | Beta: 2.00 | Starting norm: 7.9419 | x-norm: 72229727949269831570033102139016722091570364416.0000\n",
      "\n",
      "Iteration:  9 | Beta: 2.00 | Starting norm: 16.3832 | x-norm: 138925380101647657296724852090638578840252710912.0000\n",
      "\n",
      "Iteration: 10 | Beta: 2.00 | Starting norm: 14.0806 | x-norm: 129875951069402291617666209811602806731102486528.0000\n",
      "\n",
      "Iteration:  1 | Beta: 3.00 | Starting norm: 23.8356 | x-norm: 23.8356\n",
      "\n",
      "Iteration:  2 | Beta: 3.00 | Starting norm: 24.9847 | x-norm: 24.9847\n",
      "\n",
      "Iteration:  3 | Beta: 3.00 | Starting norm: 16.4805 | x-norm: 16.4805\n",
      "\n",
      "Iteration:  4 | Beta: 3.00 | Starting norm: 9.8168 | x-norm: 9.8168\n",
      "\n",
      "Iteration:  5 | Beta: 3.00 | Starting norm: 27.0955 | x-norm: 27.0955\n",
      "\n",
      "Iteration:  6 | Beta: 3.00 | Starting norm: 21.8336 | x-norm: 10.3575\n",
      "\n",
      "Iteration:  7 | Beta: 3.00 | Starting norm: 43.0759 | x-norm: 43.0759\n",
      "\n",
      "Iteration:  8 | Beta: 3.00 | Starting norm: 23.1951 | x-norm: 23.1951\n",
      "\n",
      "Iteration:  9 | Beta: 3.00 | Starting norm: 19.9641 | x-norm: 19.9641\n",
      "\n",
      "Iteration: 10 | Beta: 3.00 | Starting norm: 16.3325 | x-norm: 16.3325\n",
      "\n",
      "Iteration:  1 | Beta: 4.00 | Starting norm: 22.1138 | x-norm: 1.8564\n",
      "\n",
      "Iteration:  2 | Beta: 4.00 | Starting norm: 20.2154 | x-norm: 4.1363\n",
      "\n",
      "Iteration:  3 | Beta: 4.00 | Starting norm: 24.4703 | x-norm: 16.2478\n",
      "\n",
      "Iteration:  4 | Beta: 4.00 | Starting norm: 23.4700 | x-norm: 91.6658\n",
      "\n",
      "Iteration:  5 | Beta: 4.00 | Starting norm: 19.6399 | x-norm: 2.2607\n",
      "\n",
      "Iteration:  6 | Beta: 4.00 | Starting norm: 20.6628 | x-norm: 5.1367\n",
      "\n",
      "Iteration:  7 | Beta: 4.00 | Starting norm: 17.1104 | x-norm: 14.7947\n",
      "\n",
      "Iteration:  8 | Beta: 4.00 | Starting norm: 35.8382 | x-norm: 13.2437\n",
      "\n",
      "Iteration:  9 | Beta: 4.00 | Starting norm: 14.9505 | x-norm: 14.6374\n",
      "\n",
      "Iteration: 10 | Beta: 4.00 | Starting norm: 17.8402 | x-norm: 11.7216\n",
      "\n",
      "Iteration:  1 | Beta: 5.00 | Starting norm: 29.5482 | x-norm: 20.9309\n",
      "\n",
      "Iteration:  2 | Beta: 5.00 | Starting norm: 10.4695 | x-norm: 3.8772\n",
      "\n",
      "Iteration:  3 | Beta: 5.00 | Starting norm: 20.0499 | x-norm: 1.4245\n",
      "\n",
      "Iteration:  4 | Beta: 5.00 | Starting norm: 29.4179 | x-norm: 0.0434\n",
      "\n",
      "Iteration:  5 | Beta: 5.00 | Starting norm: 29.8318 | x-norm: 18.7006\n",
      "\n",
      "Iteration:  6 | Beta: 5.00 | Starting norm: 9.5504 | x-norm: 3.1862\n",
      "\n",
      "Iteration:  7 | Beta: 5.00 | Starting norm: 16.5969 | x-norm: 1.7539\n",
      "\n",
      "Iteration:  8 | Beta: 5.00 | Starting norm: 36.4213 | x-norm: 26.3739\n",
      "\n",
      "Iteration:  9 | Beta: 5.00 | Starting norm: 26.0943 | x-norm: 17.1708\n",
      "\n",
      "Iteration: 10 | Beta: 5.00 | Starting norm: 23.7784 | x-norm: 16.1367\n",
      "\n",
      "Iteration:  1 | Beta: 6.00 | Starting norm: 18.8244 | x-norm: 1.7703\n",
      "\n",
      "Iteration:  2 | Beta: 6.00 | Starting norm: 35.5836 | x-norm: 66.7314\n",
      "\n",
      "Iteration:  3 | Beta: 6.00 | Starting norm: 14.8779 | x-norm: 11.5630\n",
      "\n",
      "Iteration:  4 | Beta: 6.00 | Starting norm: 24.5581 | x-norm: 17.2984\n",
      "\n",
      "Iteration:  5 | Beta: 6.00 | Starting norm: 30.7058 | x-norm: 12.5334\n",
      "\n",
      "Iteration:  6 | Beta: 6.00 | Starting norm: 13.7349 | x-norm: 10.4944\n",
      "\n",
      "Iteration:  7 | Beta: 6.00 | Starting norm: 23.3989 | x-norm: 3.1074\n",
      "\n",
      "Iteration:  8 | Beta: 6.00 | Starting norm: 9.4928 | x-norm: 17.0757\n",
      "\n",
      "Iteration:  9 | Beta: 6.00 | Starting norm: 15.8661 | x-norm: 5.1113\n",
      "\n",
      "Iteration: 10"
     ]
    },
    {
     "ename": "LoadError",
     "evalue": "LoadError: ArgumentError: invalid argument #5 to LAPACK call\nwhile loading In[142], in expression starting on line 1",
     "output_type": "error",
     "traceback": [
      "LoadError: ArgumentError: invalid argument #5 to LAPACK call\nwhile loading In[142], in expression starting on line 1",
      "",
      " in geevx! at linalg/lapack.jl:1882",
      " in eigfact! at linalg/eigen.jl:53",
      " in eigfact at linalg/eigen.jl:57",
      " [inlined code] from In[142]:8",
      " in anonymous at no file:7"
     ]
    },
    {
     "name": "stdout",
     "output_type": "stream",
     "text": [
      " | Beta: 6.00 | Starting norm: 19.7790 | x-norm: 31598884892383528374234970587136.0000\n",
      "\n",
      "Iteration:  1 | Beta: 7.00 | Starting norm: 22.6225 | x-norm: 0.6045\n",
      "\n"
     ]
    }
   ],
   "source": [
    "# Loop to test different \\beta values\n",
    "for b = 2:8\n",
    "    # Loop to try different x_0 points\n",
    "    for j = 1:10\n",
    "        x0 = 10*randn(5,);\n",
    "        x = x0;\n",
    "\n",
    "        # Method\n",
    "        for i = 1:20\n",
    "            # Modify the Hessian to be PD\n",
    "            A = H(x,b);\n",
    "            E = eigfact(A);\n",
    "            V = E[:vectors];\n",
    "            lambda = diagm(max(real(E[:values]),1e-2));\n",
    "            d = -V*inv(lambda)*V'*g(x,b)\n",
    "            \n",
    "            # Iterate\n",
    "            x = x + d;\n",
    "        end\n",
    "        \n",
    "        @printf \"Iteration: %2d | Beta: %2.2f | Starting norm: %4.4f | x-norm: %4.4f\\n\\n\" j b norm(x0,2) norm(x,2)\n",
    "    end\n",
    "end"
   ]
  },
  {
   "cell_type": "markdown",
   "metadata": {},
   "source": [
    "c) The Armijo linesearch is implemented in the following code box. I randomly sampled points in a radius-10 ball from the origin and tried all values of $\\beta$ from 2 to 8. They all reduced the norm of the point! This is a significant improvement from part b."
   ]
  },
  {
   "cell_type": "code",
   "execution_count": 146,
   "metadata": {
    "collapsed": false
   },
   "outputs": [
    {
     "name": "stdout",
     "output_type": "stream",
     "text": [
      "Iteration:  1 | Beta: 2.00 | Starting norm: 16.5399 | x-norm: 9.4952\n",
      "\n",
      "Iteration:  2 | Beta: 2.00 | Starting norm: 17.3253 | x-norm: 5.2006\n",
      "\n",
      "Iteration:  3 | Beta: 2.00 | Starting norm: 15.8226 | x-norm: 3.2345\n",
      "\n",
      "Iteration:  4 | Beta: 2.00 | Starting norm: 11.2295 | x-norm: 0.1337\n",
      "\n",
      "Iteration:  5 | Beta: 2.00 | Starting norm: 19.3075 | x-norm: 4.8249\n",
      "\n",
      "Iteration:  6 | Beta: 2.00 | Starting norm: 27.2600 | x-norm: 5.6989\n",
      "\n",
      "Iteration:  7 | Beta: 2.00 | Starting norm: 18.1808 | x-norm: 3.7263\n",
      "\n",
      "Iteration:  8 | Beta: 2.00 | Starting norm: 25.6922 | x-norm: 7.0310\n",
      "\n",
      "Iteration:  9 | Beta: 2.00 | Starting norm: 18.0183 | x-norm: 12.7897\n",
      "\n",
      "Iteration: 10 | Beta: 2.00 | Starting norm: 14.0150 | x-norm: 0.0927\n",
      "\n",
      "Iteration:  1 | Beta: 3.00 | Starting norm: 14.9877 | x-norm: 0.2317\n",
      "\n",
      "Iteration:  2 | Beta: 3.00 | Starting norm: 29.2475 | x-norm: 10.5763\n",
      "\n",
      "Iteration:  3 | Beta: 3.00 | Starting norm: 12.6303 | x-norm: 0.7693\n",
      "\n",
      "Iteration:  4 | Beta: 3.00 | Starting norm: 26.7673 | x-norm: 14.3380\n",
      "\n",
      "Iteration:  5 | Beta: 3.00 | Starting norm: 26.3023 | x-norm: 5.1512\n",
      "\n",
      "Iteration:  6 | Beta: 3.00 | Starting norm: 15.3469 | x-norm: 7.3213\n",
      "\n",
      "Iteration:  7 | Beta: 3.00 | Starting norm: 25.8689 | x-norm: 11.7189\n",
      "\n",
      "Iteration:  8 | Beta: 3.00 | Starting norm: 16.4139 | x-norm: 10.6476\n",
      "\n",
      "Iteration:  9 | Beta: 3.00 | Starting norm: 23.2984 | x-norm: 3.3016\n",
      "\n",
      "Iteration: 10 | Beta: 3.00 | Starting norm: 22.6631 | x-norm: 3.0782\n",
      "\n",
      "Iteration:  1 | Beta: 4.00 | Starting norm: 16.6970 | x-norm: 0.0087\n",
      "\n",
      "Iteration:  2 | Beta: 4.00 | Starting norm: 22.8580 | x-norm: 4.6222\n",
      "\n",
      "Iteration:  3 | Beta: 4.00 | Starting norm: 6.5687 | x-norm: 5.1226\n",
      "\n",
      "Iteration:  4 | Beta: 4.00 | Starting norm: 16.6150 | x-norm: 4.0374\n",
      "\n",
      "Iteration:  5 | Beta: 4.00 | Starting norm: 19.6900 | x-norm: 12.3283\n",
      "\n",
      "Iteration:  6 | Beta: 4.00 | Starting norm: 25.3126 | x-norm: 11.9061\n",
      "\n",
      "Iteration:  7 | Beta: 4.00 | Starting norm: 30.1158 | x-norm: 14.6842\n",
      "\n",
      "Iteration:  8 | Beta: 4.00 | Starting norm: 19.6926 | x-norm: 13.9764\n",
      "\n",
      "Iteration:  9 | Beta: 4.00 | Starting norm: 27.6246 | x-norm: 19.1457\n",
      "\n",
      "Iteration: 10 | Beta: 4.00 | Starting norm: 12.5985 | x-norm: 4.5651\n",
      "\n",
      "Iteration:  1 | Beta: 5.00 | Starting norm: 25.7470 | x-norm: 0.3933\n",
      "\n",
      "Iteration:  2 | Beta: 5.00 | Starting norm: 27.9152 | x-norm: 0.0393\n",
      "\n",
      "Iteration:  3 | Beta: 5.00 | Starting norm: 24.7868 | x-norm: 5.1776\n",
      "\n",
      "Iteration:  4 | Beta: 5.00 | Starting norm: 20.7257 | x-norm: 7.8543\n",
      "\n",
      "Iteration:  5 | Beta: 5.00 | Starting norm: 14.1384 | x-norm: 1.3268\n",
      "\n",
      "Iteration:  6 | Beta: 5.00 | Starting norm: 23.2430 | x-norm: 6.1954\n",
      "\n",
      "Iteration:  7 | Beta: 5.00 | Starting norm: 30.8416 | x-norm: 11.8070\n",
      "\n",
      "Iteration:  8 | Beta: 5.00 | Starting norm: 24.1673 | x-norm: 7.3725\n",
      "\n",
      "Iteration:  9 | Beta: 5.00 | Starting norm: 22.5822 | x-norm: 3.3586\n",
      "\n",
      "Iteration: 10 | Beta: 5.00 | Starting norm: 21.6134 | x-norm: 6.3941\n",
      "\n",
      "Iteration:  1 | Beta: 6.00 | Starting norm: 12.1251 | x-norm: 0.0583\n",
      "\n",
      "Iteration:  2 | Beta: 6.00 | Starting norm: 30.4716 | x-norm: 1.3893\n",
      "\n",
      "Iteration:  3 | Beta: 6.00 | Starting norm: 32.6189 | x-norm: 19.9850\n",
      "\n",
      "Iteration:  4 | Beta: 6.00 | Starting norm: 15.4804 | x-norm: 3.4767\n",
      "\n",
      "Iteration:  5 | Beta: 6.00 | Starting norm: 18.1919 | x-norm: 7.1605\n",
      "\n",
      "Iteration:  6 | Beta: 6.00 | Starting norm: 19.2419 | x-norm: 17.5808\n",
      "\n",
      "Iteration:  7 | Beta: 6.00 | Starting norm: 14.8079 | x-norm: 1.7771\n",
      "\n",
      "Iteration:  8 | Beta: 6.00 | Starting norm: 20.9932 | x-norm: 6.6009\n",
      "\n",
      "Iteration:  9 | Beta: 6.00 | Starting norm: 19.8395 | x-norm: 11.0136\n",
      "\n",
      "Iteration: 10 | Beta: 6.00 | Starting norm: 21.1479 | x-norm: 3.4325\n",
      "\n",
      "Iteration:  1 | Beta: 7.00 | Starting norm: 10.9643 | x-norm: 0.0933\n",
      "\n",
      "Iteration:  2 | Beta: 7.00 | Starting norm: 22.1474 | x-norm: 2.7408\n",
      "\n",
      "Iteration:  3 | Beta: 7.00 | Starting norm: 11.2937 | x-norm: 3.0482\n",
      "\n",
      "Iteration:  4 | Beta: 7.00 | Starting norm: 22.1986 | x-norm: 19.9366\n",
      "\n",
      "Iteration:  5 | Beta: 7.00 | Starting norm: 20.7198 | x-norm: 5.4165\n",
      "\n",
      "Iteration:  6 | Beta: 7.00 | Starting norm: 30.0732 | x-norm: 8.1633\n",
      "\n",
      "Iteration:  7 | Beta: 7.00 | Starting norm: 18.8099 | x-norm: 5.0273\n",
      "\n",
      "Iteration:  8 | Beta: 7.00 | Starting norm: 30.8809 | x-norm: 4.3884\n",
      "\n",
      "Iteration:  9 | Beta: 7.00 | Starting norm: 16.6919 | x-norm: 9.7307\n",
      "\n",
      "Iteration: 10 | Beta: 7.00 | Starting norm: 36.1268 | x-norm: 26.8552\n",
      "\n",
      "Iteration:  1 | Beta: 8.00 | Starting norm: 32.4700 | x-norm: 6.4581\n",
      "\n",
      "Iteration:  2 | Beta: 8.00 | Starting norm: 19.6158 | x-norm: 6.7096\n",
      "\n",
      "Iteration:  3 | Beta: 8.00 | Starting norm: 15.3571 | x-norm: 4.1037\n",
      "\n",
      "Iteration:  4 | Beta: 8.00 | Starting norm: 30.1226 | x-norm: 16.3135\n",
      "\n",
      "Iteration:  5 | Beta: 8.00 | Starting norm: 19.7492 | x-norm: 14.8041\n",
      "\n",
      "Iteration:  6 | Beta: 8.00 | Starting norm: 13.1654 | x-norm: 1.8250\n",
      "\n",
      "Iteration:  7 | Beta: 8.00 | Starting norm: 15.8631 | x-norm: 11.7838\n",
      "\n",
      "Iteration:  8 | Beta: 8.00 | Starting norm: 20.9409 | x-norm: 9.1124\n",
      "\n",
      "Iteration:  9 | Beta: 8.00 | Starting norm: 30.6565 | x-norm: 5.1552\n",
      "\n",
      "Iteration: 10 | Beta: 8.00 | Starting norm: 18.8869 | x-norm: 8.7298\n",
      "\n"
     ]
    }
   ],
   "source": [
    "# Loop to test different \\beta values\n",
    "for b = 2:8\n",
    "    # Loop to try different x_0 points\n",
    "    for j = 1:10\n",
    "        x0 = 10*randn(5,);\n",
    "        x = x0;\n",
    "\n",
    "        # Method\n",
    "        for i = 1:60\n",
    "            # Modify the Hessian to be PD\n",
    "            A = H(x,b);\n",
    "            E = eigfact(A);\n",
    "            V = real(E[:vectors]);\n",
    "            lambda = diagm(max(real(E[:values]),1e-2));\n",
    "            d = -V*inv(lambda)*V'*g(x,b)\n",
    "            \n",
    "            #Backtracking linesearch\n",
    "            alpha = 1;\n",
    "            mu = 10^-2.0;\n",
    "            newf = f(x + alpha*d,b);\n",
    "            while newf > f(x,b) + (alpha*mu)*(dot(g(x,b),d))\n",
    "                newf = f(x + alpha*d,b);\n",
    "                alpha = alpha/2;\n",
    "            end\n",
    "            \n",
    "            # Iterate\n",
    "            x = x + alpha * d;\n",
    "        end\n",
    "        \n",
    "        @printf \"Iteration: %2d | Beta: %2.2f | Starting norm: %4.4f | x-norm: %4.4f\\n\\n\" j b norm(x0,2) norm(x,2)\n",
    "    end\n",
    "end"
   ]
  },
  {
   "cell_type": "markdown",
   "metadata": {},
   "source": [
    "# Problem 3\n",
    "Suppose $D^0$ is symmetric and that $D^k$ is updated according to the formula \n",
    "\n",
    "$$D^{k+1} = D^k + \\frac{y^k y^{k'}}{q^{k'} y^{k}}$$\n",
    "\n",
    "where $y^k = p^k - D^k q^k$. Show that we have\n",
    "\n",
    "$$D^{k+1} q^i = p^i$$ \n",
    "\n",
    "for all $k$ and $i \\leq k$. \n",
    "\n",
    "Conclude that for a positive definite quadratic problem, after $n$ steps for which $n$ linearly independent increments $q^0, ..., q^{n-1}$ are obtained, $D^n$ is equal to the inverse Hessian of the cost function.\n",
    "\n",
    "## Solution\n",
    "Don't have this one yet. An update is coming!"
   ]
  },
  {
   "cell_type": "code",
   "execution_count": null,
   "metadata": {
    "collapsed": true
   },
   "outputs": [],
   "source": []
  },
  {
   "cell_type": "markdown",
   "metadata": {},
   "source": [
    "# Problem 4\n",
    "Add BFGS quasi-Newton option to the previous Newton method and compare it with the regular Newton on Toms566 problems.\n",
    "\n",
    "## Solution\n",
    "Don't have one yet. Will do one soon."
   ]
  },
  {
   "cell_type": "code",
   "execution_count": null,
   "metadata": {
    "collapsed": true
   },
   "outputs": [],
   "source": []
  }
 ],
 "metadata": {
  "kernelspec": {
   "display_name": "Julia 0.4.0",
   "language": "julia",
   "name": "julia-0.4"
  },
  "language_info": {
   "file_extension": ".jl",
   "mimetype": "application/julia",
   "name": "julia",
   "version": "0.4.0"
  }
 },
 "nbformat": 4,
 "nbformat_minor": 0
}
