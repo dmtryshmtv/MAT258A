{
 "cells": [
  {
   "cell_type": "markdown",
   "metadata": {},
   "source": [
    "# Import packages"
   ]
  },
  {
   "cell_type": "code",
   "execution_count": 1,
   "metadata": {
    "collapsed": false,
    "scrolled": true
   },
   "outputs": [],
   "source": [
    "using PyPlot\n",
    "using MathProgBase\n",
    "using ReverseDiffSource"
   ]
  },
  {
   "cell_type": "markdown",
   "metadata": {},
   "source": [
    "# Problem 1"
   ]
  },
  {
   "cell_type": "markdown",
   "metadata": {},
   "source": [
    "In this problem, we classify sequences by their rates of convergence. "
   ]
  },
  {
   "cell_type": "markdown",
   "metadata": {},
   "source": [
    "### Solution\n",
    "\n",
    "a) $x_k = \\frac{1}{k}$. The limit of this sequence is 0. We compute its rate of convergence by the definition:\n",
    "\n",
    "$$ \\frac{\\| x_{k+1} - x^* \\|}{\\| x_k - x^* \\|} = \\gamma$$ \n",
    "\n",
    "We obtain $\\gamma = 1$ for our specific sequence as follows:\n",
    "\n",
    "$$\\frac{\\| \\frac{1}{k+1} \\|}{\\| \\frac{1}{k} \\| } = \\frac{k}{k+1} \\rightarrow 1$$\n",
    "\n",
    "We conclude that our sequence converges sublinearly.\n",
    "\n",
    "b) $x_k = 1 + 2^{-2^k}$. Following the same process, we find that with $q=1$, our sequence converges to 0. Increasing $q$ to 2, we obtain a $\\gamma$ of 1 like so:\n",
    "\n",
    "$$ \\frac{\\| (1+2^{-2^{k+1}}) - 1 \\|}{ \\|(1+2^{-2^k}) -1\\|^2} = \\frac{(2^{2^k})^2}{2^{2^{k+1}}}$$\n",
    "\n",
    "$$= \\frac{2^{2^{k+1}}}{2^{2^{k+1}}} \\rightarrow 1$$\n",
    "\n",
    "This sequence converges quadratically.\n",
    "\n",
    "c) $x_k = 1+k^{-k}$. Choosing $q=1$, we obtain that $\\gamma =0$:\n",
    "\n",
    "$$\\frac{(k+1)^{-(k+1)}}{k^{-k}} = \\frac{k^k}{(k+1)^k} \\frac{1}{k+1} \\rightarrow 0$$.\n",
    "\n",
    "But choosing $q = 2$, we obtain $\\gamma = \\infty$:\n",
    "\n",
    "$$\\frac{(k+1)^{-(k+1)}}{k^{-2k}} = \\frac{k^{2k}}{(k+1)^{k+1}} \\rightarrow \\infty$$\n",
    "\n",
    "Therefore, this sequence is superlinear, but not quite quadratic. Or maybe it can be considered quadratic, but with an infinite coefficient.\n",
    "\n",
    "\n",
    "d) $x_k = \\frac{1}{k!}$. With $q=1$, we get $\\gamma = 0$:\n",
    "\n",
    "$$\\frac{\\frac{1}{(k+1)k!}}{\\frac{1}{k!}} = \\frac{1}{k+1} \\rightarrow 0$$\n",
    "\n",
    "With $q=2$, $\\gamma$ goes off to infinity though. Thus, this sequence is superlinear, but quite quadratic.\n",
    "\n",
    "e) $x_k = $ \\begin{cases} (1/4)^{2^k} & \\mbox{if } k \\mbox{ is even} \\\\ x_{k-1}/k & \\mbox{ otherwise} \\end{cases}. This sequence is clearly superlinear:\n",
    "\n",
    "$$\\frac{4^{2^{k}}}{4^{2^{k}}} \\frac{1}{k} = \\frac{1}{k} \\rightarrow 0$$\n",
    "\n",
    "However, if we choose $q=2$, the limit explodes. Therefore, it is quadratic.\n"
   ]
  },
  {
   "cell_type": "markdown",
   "metadata": {},
   "source": [
    "# Problem 2"
   ]
  },
  {
   "cell_type": "markdown",
   "metadata": {},
   "source": [
    "# Problem 3"
   ]
  },
  {
   "cell_type": "markdown",
   "metadata": {},
   "source": [
    "## Newton's method"
   ]
  },
  {
   "cell_type": "code",
   "execution_count": 2,
   "metadata": {
    "collapsed": false
   },
   "outputs": [
    {
     "name": "stderr",
     "output_type": "stream",
     "text": [
      "Qt: Untested Windows version 10.0 detected!\r\n"
     ]
    },
    {
     "data": {
      "text/plain": [
       "newtonMethod (generic function with 1 method)"
      ]
     },
     "execution_count": 2,
     "metadata": {},
     "output_type": "execute_result"
    }
   ],
   "source": [
    "function newtonMethod(obj, x0; maxIts = 500, optTol = 1.0e-8, verbose=false)\n",
    "    its = 0\n",
    "    x = x0\n",
    "    fvals = []\n",
    "    gnormvals = []\n",
    "    (f,g,H) = obj(x)\n",
    "    g0 = g\n",
    "    \n",
    "    while (its < maxIts && norm(g,2) > optTol && norm(g,2) > (1.0e-4*norm(g0,2)))\n",
    "        (f,g,H) = obj(x)\n",
    "        d = -inv(H)*g;\n",
    "        \n",
    "        # Backtracking linesearch\n",
    "        alpha = 1;\n",
    "        mu = 10^-2.0;\n",
    "        (newf,newg,newH) = obj(x+alpha*d);\n",
    "        while newf > f + (alpha*mu)*(dot(g,d))\n",
    "            (newf, newg, newH) = obj(x + alpha*d);\n",
    "            alpha = alpha/2;\n",
    "        end\n",
    "        \n",
    "        x = x + alpha * d\n",
    "        \n",
    "        its += 1\n",
    "        fvals = [fvals; f]\n",
    "        gnormvals = [gnormvals; norm(g,2)]\n",
    "    end\n",
    "    \n",
    "    return (x,f,norm(g,2),its)\n",
    "end"
   ]
  },
  {
   "cell_type": "code",
   "execution_count": 3,
   "metadata": {
    "collapsed": false,
    "scrolled": true
   },
   "outputs": [
    {
     "data": {
      "text/plain": [
       "([0.0,0.0,0.0],0.0,0.0,3)"
      ]
     },
     "execution_count": 3,
     "metadata": {},
     "output_type": "execute_result"
    }
   ],
   "source": [
    "# Now we apply it to the function f(x) = ||Ax||^2\n",
    "A = 10*rand(3,3)\n",
    "\n",
    "function obj(x)\n",
    "    return (norm(A*x,2), 2*eye(3).*diag(A' * A) * x, 2*eye(3).*diag(A'*A)) \n",
    "end\n",
    "\n",
    "newtonMethod(obj,[5,5,10])"
   ]
  },
  {
   "cell_type": "markdown",
   "metadata": {},
   "source": [
    "# Problem 4"
   ]
  },
  {
   "cell_type": "markdown",
   "metadata": {},
   "source": [
    "## Get data"
   ]
  },
  {
   "cell_type": "code",
   "execution_count": 4,
   "metadata": {
    "collapsed": true
   },
   "outputs": [],
   "source": [
    "# Get the data\n",
    "data = readdlm(\"binary.csv\",',','\\r');\n",
    "# Separate the independent var\n",
    "y = data[2:end-1 , 1];\n",
    "# Separate the dependent vars\n",
    "u = data[2:end-1 , 2:4];\n",
    "# Pad with 1's for \\beta\n",
    "o = ones(size(u,1));\n",
    "u = [u o];\n",
    "m = size(y,1);\n",
    "n = 4;"
   ]
  },
  {
   "cell_type": "markdown",
   "metadata": {},
   "source": [
    "## Define likelihood"
   ]
  },
  {
   "cell_type": "code",
   "execution_count": 5,
   "metadata": {
    "collapsed": false
   },
   "outputs": [
    {
     "data": {
      "text/plain": [
       "quote \n",
       "    valL = 0\n",
       "    begin \n",
       "        for i = 1:m # In[5], line 4:\n",
       "            valL = (valL - y[i] * (a[1] * u[i,1] + a[2] * u[i,2] + a[3] * u[i,3] + a[4] * u[i,4])) + log(1 + exp(a[1] * u[i,1] + a[2] * u[i,2] + a[3] * u[i,3] + a[4] * u[i,4]))\n",
       "        end\n",
       "        return valL\n",
       "    end\n",
       "end"
      ]
     },
     "execution_count": 5,
     "metadata": {},
     "output_type": "execute_result"
    }
   ],
   "source": [
    "# Define the likelihood function\n",
    "expr = :(valL = 0;\n",
    "    for i=1:m\n",
    "        valL = valL - (y[i]*(a[1]*u[i,1] + a[2]*u[i,2] + a[3]*u[i,3] + a[4]*u[i,4])) + log(1 + exp(a[1]*u[i,1]+a[2]*u[i,2]+a[3]*u[i,3]+a[4]*u[i,4]))\n",
    "    end;\n",
    "return valL\n",
    ")"
   ]
  },
  {
   "cell_type": "markdown",
   "metadata": {},
   "source": [
    "## Setup rdiff"
   ]
  },
  {
   "cell_type": "code",
   "execution_count": 6,
   "metadata": {
    "collapsed": false
   },
   "outputs": [
    {
     "data": {
      "text/plain": [
       "obj1 (generic function with 1 method)"
      ]
     },
     "execution_count": 6,
     "metadata": {},
     "output_type": "execute_result"
    }
   ],
   "source": [
    "a=Float64[0.1,0.1,0.1,1]\n",
    "diffL = rdiff( expr, a=Float64[0.1,0.1,0.1,1], order = 2);\n",
    "@eval obj1(a) = $diffL"
   ]
  },
  {
   "cell_type": "code",
   "execution_count": 7,
   "metadata": {
    "collapsed": false
   },
   "outputs": [
    {
     "data": {
      "text/plain": [
       "(1756.598703077153,[155976.6348115832,909.278625307931,718.1727361264101,271.88977402611175],\n",
       "4x4 Array{Float64,2}:\n",
       "    2.41134e5  1618.81     1254.12     499.677  \n",
       " 1618.81         11.4058      8.94287    3.51878\n",
       " 1254.12          8.94287     8.06202    2.79864\n",
       "  499.677         3.51878     2.79864    1.09945)"
      ]
     },
     "execution_count": 7,
     "metadata": {},
     "output_type": "execute_result"
    }
   ],
   "source": [
    "obj1([0.01,0.1,0.1,0.1])"
   ]
  },
  {
   "cell_type": "markdown",
   "metadata": {},
   "source": [
    "## Newton!"
   ]
  },
  {
   "cell_type": "code",
   "execution_count": 12,
   "metadata": {
    "collapsed": false
   },
   "outputs": [
    {
     "data": {
      "text/plain": [
       "([0.0022939595025135676,0.7770135724899085,-0.5600313864755174,-3.44954839273536],229.72088257585452,0.8393024539551874,9)"
      ]
     },
     "execution_count": 12,
     "metadata": {},
     "output_type": "execute_result"
    }
   ],
   "source": [
    "(a,val,g,its) = newtonMethod(obj1,Float64[0.1,0.1,0.4,0.3])"
   ]
  },
  {
   "cell_type": "code",
   "execution_count": 13,
   "metadata": {
    "collapsed": false
   },
   "outputs": [
    {
     "data": {
      "image/png": "[encoded data removed]",
      "text/plain": [
       "PyPlot.Figure(PyObject <matplotlib.figure.Figure object at 0x362BF790>)"
      ]
     },
     "metadata": {},
     "output_type": "display_data"
    },
    {
     "data": {
      "text/plain": [
       "3-element Array{Any,1}:\n",
       " PyObject <matplotlib.lines.Line2D object at 0x3A9934F0>\n",
       " PyObject <matplotlib.lines.Line2D object at 0x3A993650>\n",
       " PyObject <matplotlib.lines.Line2D object at 0x3A993990>"
      ]
     },
     "execution_count": 13,
     "metadata": {},
     "output_type": "execute_result"
    }
   ],
   "source": [
    "# Regression against Data\n",
    "yes=[transpose(zeros(4))];\n",
    "no=[transpose(zeros(4))];\n",
    "for i = 1:m\n",
    "    if y[i]==1\n",
    "        yes = [yes; u[i,:]];\n",
    "    end\n",
    "    if y[i] == 0\n",
    "        no = [no; u[i,:]];\n",
    "    end\n",
    "end\n",
    "ym = size(yes,1)\n",
    "nm = size(no,1)\n",
    "gre=200:600/300:800\n",
    "gpa=2.2:1.8/300:4.0\n",
    "plot(yes[2:end,1],yes[2:end,2],\"g+\", no[2:end,1],no[2:end,2],\"ro\",gre,((1/2) - a[1]*gre - a[4])/a[2])"
   ]
  },
  {
   "cell_type": "code",
   "execution_count": null,
   "metadata": {
    "collapsed": true
   },
   "outputs": [],
   "source": []
  }
 ],
 "metadata": {
  "kernelspec": {
   "display_name": "Julia 0.4.0",
   "language": "julia",
   "name": "julia-0.4"
  },
  "language_info": {
   "file_extension": ".jl",
   "mimetype": "application/julia",
   "name": "julia",
   "version": "0.4.0"
  }
 },
 "nbformat": 4,
 "nbformat_minor": 0
}
