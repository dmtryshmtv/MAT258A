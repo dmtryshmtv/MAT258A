{
 "cells": [
  {
   "cell_type": "markdown",
   "metadata": {},
   "source": [
    "# Import packages"
   ]
  },
  {
   "cell_type": "code",
   "execution_count": 1,
   "metadata": {
    "collapsed": false,
    "scrolled": true
   },
   "outputs": [],
   "source": [
    "using Toms566\n",
    "using PyPlot\n",
    "using MathProgBase\n",
    "using ReverseDiffSource"
   ]
  },
  {
   "cell_type": "markdown",
   "metadata": {},
   "source": [
    "## Define: gradient descent method\n",
    "* Uses eigenvalues of the Hessian to adjust step size"
   ]
  },
  {
   "cell_type": "code",
   "execution_count": 2,
   "metadata": {
    "collapsed": false
   },
   "outputs": [
    {
     "name": "stderr",
     "output_type": "stream",
     "text": [
      "Qt: Untested Windows version 10.0 detected!\r\n"
     ]
    },
    {
     "data": {
      "text/plain": [
       "gradDescentMethod (generic function with 1 method)"
      ]
     },
     "execution_count": 2,
     "metadata": {},
     "output_type": "execute_result"
    }
   ],
   "source": [
    "function gradDescentMethod(obj, x0; maxIts = 1000, optTol = 1.0e-8, verbose=false)\n",
    "    its = 0\n",
    "    (f,g,H) = obj(x0)\n",
    "    g0 = g\n",
    "    x = x0\n",
    "    \n",
    "    while (its < maxIts && norm(g,2) > optTol && norm(g,2) > (1.0e-4*norm(g0,2)) )\n",
    "        (f,g,H) = obj(x)\n",
    "        # Step size based on eigenvalue\n",
    "        H_eigs = eig(H)[1]\n",
    "        maxeig = maximum(H_eigs)\n",
    "        alpha = 1/maxeig\n",
    "        \n",
    "        d = -g\n",
    "\n",
    "        x = x + alpha * d\n",
    "        \n",
    "        its += 1\n",
    "    end\n",
    "    \n",
    "    if verbose\n",
    "        print(\"Done!\\n\")\n",
    "        @printf \"Optimal value: %f\\n\" f\n",
    "        print(\"Location: \\n\")\n",
    "        print(x)\n",
    "        print(\"\\n\")\n",
    "        @printf \"Iterations: %d\\n\" its \n",
    "        print(\"\\n\\n\")\n",
    "    end\n",
    "    \n",
    "    return (x,f,norm(g,2),its) \n",
    "end"
   ]
  },
  {
   "cell_type": "markdown",
   "metadata": {},
   "source": [
    "## Define: Newton's method\n",
    "* Fixes Hessian to be positive definite\n",
    "* Uses backtracking linesearch"
   ]
  },
  {
   "cell_type": "code",
   "execution_count": 159,
   "metadata": {
    "collapsed": false
   },
   "outputs": [
    {
     "data": {
      "text/plain": [
       "newtonMethod (generic function with 1 method)"
      ]
     },
     "execution_count": 159,
     "metadata": {},
     "output_type": "execute_result"
    }
   ],
   "source": [
    "function newtonMethod(obj, x0; maxIts = 500, optTol = 1.0e-8, verbose=false)\n",
    "    its = 0\n",
    "    x = x0\n",
    "    fvals = []\n",
    "    gnormvals = []\n",
    "    (f,g,H) = obj(x)\n",
    "    g0 = g\n",
    "    \n",
    "    while (its < maxIts && norm(g,2) > optTol && norm(g,2) > (1.0e-4*norm(g0,2)))\n",
    "        (f,g,H) = obj(x)\n",
    "        \n",
    "        # Modify Hessian if not positive definite\n",
    "        E = eigfact(H);\n",
    "        V = E[:vectors];\n",
    "        lambda = diagm(max(E[:values],1e-2));\n",
    "        d = -V*inv(lambda)*transpose(V)*g;\n",
    "        \n",
    "        # Backtracking linesearch\n",
    "        alpha = 1;\n",
    "        mu = 10^-2.0;\n",
    "        (newf,newg,newH) = obj(x+alpha*d);\n",
    "        while newf > f + (alpha*mu)*(dot(g,d))\n",
    "            (newf, newg, newH) = obj(x + alpha*d);\n",
    "            alpha = alpha/2;\n",
    "        end\n",
    "        \n",
    "        x = x + alpha * d\n",
    "        \n",
    "        its += 1\n",
    "        fvals = [fvals; f]\n",
    "        gnormvals = [gnormvals; norm(g,2)]\n",
    "    end\n",
    "    \n",
    "    if verbose\n",
    "        print(\"Done!\\n\")\n",
    "        @printf \"Optimal value: %f\\n\" f\n",
    "        print(\"Location: \\n\")\n",
    "        print(x)\n",
    "        print(\"\\n\")\n",
    "        @printf \"Iterations: %d\\n\" its\n",
    "        print(\"\\n\\n\")\n",
    "    end\n",
    "    \n",
    "    return (x,f,norm(g,2),its)\n",
    "end"
   ]
  },
  {
   "cell_type": "markdown",
   "metadata": {},
   "source": [
    "## Problem 1: Toms566 problems"
   ]
  },
  {
   "cell_type": "code",
   "execution_count": 160,
   "metadata": {
    "collapsed": false
   },
   "outputs": [
    {
     "name": "stdout",
     "output_type": "stream",
     "text": [
      "Running Dmitry's Newton method on all problems!\n",
      "\n",
      "    i                   Problem name                 f(x)         |grad(f(x))|                  its \n",
      "    1                Hellical valley             0.000010             0.110821                   35 \n",
      "    2                    Bigg's EXP6             0.255601             0.138184                  500 \n",
      "    3                       Gaussian             0.000000             0.000000                    3 \n",
      "    4                         Powell             0.000101             1.999961                   28 \n",
      "    5                      Box 3-dim             0.000165             0.001989                   19 \n",
      "    6           Variably dimensioned         31543.569717       1392845.689824                    4 \n",
      "    7                         Watson             3.527223             5.749285                  500 \n",
      "    8                      Penalty I          6396.051688          2865.310581                    9 \n",
      "    9                     Penalty II            89.602610             9.705922                   13 \n",
      "   10             Brown badly scaled             0.000000             3.352820                    8 \n",
      "   11                Brown and Denis       1620843.806890        445243.061723                  500 \n",
      "   12  Gulf research and development             0.010001             0.001543                    9 \n",
      "   13                  Trigonometric             0.000004             0.000139                  500 \n",
      "   14            Extended rosenbrock           428.729348           961.480139                  500 \n",
      "   15       Extended Powell singular          2153.325921          1331.869213                  500 \n",
      "   16                          Beale             0.000000             0.002172                   10 \n",
      "   17                           Wood             7.876516             0.150289                    8 \n",
      "   18                      Chebyquad             0.008949             1.018371                  500 \n"
     ]
    }
   ],
   "source": [
    "print(\"Running Dmitry's Newton method on all problems!\\n\\n\")\n",
    "@printf \"%5s %30s %20s %20s %20s \\n\" \"i\" \"Problem name\" \"f(x)\" \"|grad(f(x))|\" \"its\"\n",
    "\n",
    "for i = 1:18\n",
    "    p = Problem(i)\n",
    "    \n",
    "    function obj(x)\n",
    "        return (p.obj(x), p.grd(x), p.hes(x))\n",
    "    end\n",
    "    \n",
    "    (x,f,gnorm,its) = newtonMethod(obj,p.x0)\n",
    "    @printf \"%5d %30s %20f %20f %20d \\n\" i p.name f gnorm its\n",
    "    \n",
    "end"
   ]
  },
  {
   "cell_type": "markdown",
   "metadata": {
    "collapsed": true
   },
   "source": [
    "### Comments:\n",
    "*14 and 15 took a really long time. Probably has ugly Hessians."
   ]
  },
  {
   "cell_type": "markdown",
   "metadata": {},
   "source": [
    "# PROBLEM 2"
   ]
  },
  {
   "cell_type": "markdown",
   "metadata": {},
   "source": [
    "## Extract the data"
   ]
  },
  {
   "cell_type": "code",
   "execution_count": 4,
   "metadata": {
    "collapsed": false
   },
   "outputs": [],
   "source": [
    "# Get the data\n",
    "data = readdlm(\"binary.csv\",',','\\r');\n",
    "# Separate the independent var\n",
    "y = data[2:end-1 , 1];\n",
    "# Separate the dependent vars\n",
    "u = data[2:end-1 , 2:4];\n",
    "# Pad with 1's for \\beta\n",
    "o = ones(size(u,1));\n",
    "u = [u o];\n",
    "m = size(y,1);\n",
    "n = 4;"
   ]
  },
  {
   "cell_type": "markdown",
   "metadata": {},
   "source": [
    "## Define likelihood"
   ]
  },
  {
   "cell_type": "code",
   "execution_count": 147,
   "metadata": {
    "collapsed": false
   },
   "outputs": [
    {
     "data": {
      "text/plain": [
       "quote \n",
       "    valL = 0\n",
       "    begin \n",
       "        for i = 1:m # In[147], line 4:\n",
       "            valL = (valL - y[i] * (a[1] * u[i,1] + a[2] * u[i,2] + a[3] * u[i,3] + a[4] * u[i,4])) + log(1 + exp(a[1] * u[i,1] + a[2] * u[i,2] + a[3] * u[i,3] + a[4] * u[i,4]))\n",
       "        end\n",
       "        return valL\n",
       "    end\n",
       "end"
      ]
     },
     "execution_count": 147,
     "metadata": {},
     "output_type": "execute_result"
    }
   ],
   "source": [
    "# Define the likelihood function\n",
    "expr = :(valL = 0;\n",
    "    for i=1:m\n",
    "        valL = valL - (y[i]*(a[1]*u[i,1] + a[2]*u[i,2] + a[3]*u[i,3] + a[4]*u[i,4])) + log(1 + exp(a[1]*u[i,1]+a[2]*u[i,2]+a[3]*u[i,3]+a[4]*u[i,4]))\n",
    "    end;\n",
    "return valL\n",
    ")"
   ]
  },
  {
   "cell_type": "markdown",
   "metadata": {},
   "source": [
    "## Setup rdiff"
   ]
  },
  {
   "cell_type": "code",
   "execution_count": 148,
   "metadata": {
    "collapsed": false
   },
   "outputs": [],
   "source": [
    "diffL = rdiff( expr, a=Float64[0.1,0.1,0.1,1], order = 2);\n",
    "@eval obj(a) = $diffL"
   ]
  },
  {
   "cell_type": "markdown",
   "metadata": {},
   "source": [
    "## Newton!"
   ]
  },
  {
   "cell_type": "code",
   "execution_count": 156,
   "metadata": {
    "collapsed": false
   },
   "outputs": [
    {
     "name": "stdout",
     "output_type": "stream",
     "text": [
      "Done!\n"
     ]
    },
    {
     "data": {
      "text/plain": [
       "([0.0022939594979677455,0.7770135443955085,-0.560031364269944,-3.4495483310868513],229.72088458579955,5.579578808331352,5)"
      ]
     },
     "execution_count": 156,
     "metadata": {},
     "output_type": "execute_result"
    },
    {
     "name": "stdout",
     "output_type": "stream",
     "text": [
      "Optimal value: 229.720885\n",
      "Location: \n",
      "[0.0022939594979677455,0.7770135443955085,-0.560031364269944,-3.4495483310868513]\n",
      "Iterations: 5\n",
      "\n",
      "\n"
     ]
    }
   ],
   "source": [
    "newtonMethod(obj,a,verbose=true)"
   ]
  },
  {
   "cell_type": "code",
   "execution_count": null,
   "metadata": {
    "collapsed": true
   },
   "outputs": [],
   "source": []
  }
 ],
 "metadata": {
  "kernelspec": {
   "display_name": "Julia 0.4.0",
   "language": "julia",
   "name": "julia-0.4"
  },
  "language_info": {
   "file_extension": ".jl",
   "mimetype": "application/julia",
   "name": "julia",
   "version": "0.4.0"
  }
 },
 "nbformat": 4,
 "nbformat_minor": 0
}
