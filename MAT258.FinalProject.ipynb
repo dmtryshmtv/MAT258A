{
 "cells": [
  {
   "cell_type": "markdown",
   "metadata": {},
   "source": [
    "# MAT 258A Final Project\n",
    "## Dmitry Shemetov\n",
    "\n",
    "We explore optimization methods in the parameter estimation of Hidden Markov models. \n",
    "\n",
    "The bottom line is as follows. Suppose we are given some discrete-time, finite-alphabet data $Y = [1,2,1,2,1,2,2,1]$. We seek parameters $\\theta$ that maximize the likelihood of a particular HMM generating this data? Stated as an optimization problem:\n",
    "\n",
    "$$\\max_\\theta L(\\theta; Y) = P(Y| \\theta)$$\n",
    "\n",
    "Assuming a vector of hidden variables $X$, we have\n",
    "\n",
    "$$P(Y | \\theta) = \\sum_X P(X,Y| \\theta) = \\sum_X P(X_1 = x_1) \\prod P(X_{t+1}=x_{t+1} | X_t = x_t) P(Y_t=y_t| X_t = x_t, X_{t+1}=x_{t+1} ) $$\n",
    "\n",
    "$$= \\sum_X \\pi_{X_1} \\prod_{t=1}^T A_{X_t,X_{t+1}} B_{X_t,X_{t+1}}^{Y_t}$$\n",
    "\n",
    "In the last line, we've encoded probabilities into three parameter sets: the starting distribution vector $\\pi$, the hidden state transition matrix $A$ and the observable emission matrix $B$. These are all collected into a single parameter $\\theta = \\{ \\pi, A, B \\}$."
   ]
  },
  {
   "cell_type": "code",
   "execution_count": 1,
   "metadata": {
    "collapsed": false
   },
   "outputs": [],
   "source": [
    "using Iterators\n",
    "#using ReverseDiffSource"
   ]
  },
  {
   "cell_type": "markdown",
   "metadata": {},
   "source": [
    "## 1. Parameter set-up.\n",
    "Here we define the HMM processes. We use two: the even process and the coupled GMP process. Elsewhere, we have run a simulation using these processes and generated time-series. We will use this to try to reconstruct these ground truth parameters. We also define \"guess\" processes that are perturbations of these true processes. They will form our starting conditions for the iterative methods.\n",
    "\n",
    "Even:\n",
    "<img src=\"img/even.png\">\n",
    "\n",
    "and\n",
    "\n",
    "Coupled Golden Mean Process:\n",
    "<img src=\"img/cgmp.png\">"
   ]
  },
  {
   "cell_type": "code",
   "execution_count": 2,
   "metadata": {
    "collapsed": false,
    "scrolled": false
   },
   "outputs": [],
   "source": [
    "# Even process.\n",
    "pi = [1.0/3,2.0/3]\n",
    "A = [0.5 0.5; 1.0 0]\n",
    "B = randn(2,2,2)\n",
    "B[:,:,1] = [1.0 0.0; 0.0 0.0]\n",
    "B[:,:,2] = [0.0 1.0; 1.0 0.0]\n",
    "even = {pi, A, B}\n",
    "\n",
    "# Data\n",
    "a = Int32[0, 0, 1, 1, 0, 1, 1, 0, 0, 1, 1, 1, 1, 0, 1, 1, 0, 0, 0, 1, 1, 0, 1, 1, 1, 1, 0, 0, 1, 1, 1, 1, 0, 0, 1, 1, 1, 1, 1, 1, 1, 1, 0, 1, 1, 1, 1, 1, 1, 0, 0, 1, 1, 0, 0, 1, 1, 0, 0, 0, 1, 1, 0, 1, 1, 0, 0, 0, 1, 1, 1, 1, 0, 0, 1, 1, 0, 1, 1, 0, 1, 1, 0, 1, 1, 0, 0, 1, 1, 1, 1, 0, 0, 1, 1, 1, 1, 0, 1, 1]\n",
    "evenY = [i+1 for i in a]\n",
    "\n",
    "# Even guess.\n",
    "pi = [1.0/10,9.0/10]\n",
    "A = [0.1 0.9; 1.0 0]\n",
    "B = randn(2,2,2)\n",
    "B[:,:,1] = [1.0 0.0; 0.0 0.0]\n",
    "B[:,:,2] = [0.0 1.0; 1.0 0.0]\n",
    "evenGuess = {pi,A,B}\n",
    "\n",
    "\n",
    "# Coupled GMP.\n",
    "pi = [1.0/3, 1.0/6, 1.0/3, 1.0/6]\n",
    "A = [0.5 0.5 0 0; 0.995 0.0 0.005 0.; 0 0 0.5 0.5; 0.005 0 0.995 0.]\n",
    "B = randn(4,4,2)\n",
    "B[:,:,1] = [0 1.0 0 0; 0 0 1.0 0; 0 0 1.0 0; 0 0 1.0 0]\n",
    "B[:,:,2] = [1.0 0 0 0; 1.0 0 0 0; 0 0 0 1.0; 1.0 0 0 0]\n",
    "cgmp = {pi, A, B}\n",
    "\n",
    "# Data.\n",
    "cgmpY = Int32[2, 2, 2, 1, 2, 2, 1, 2, 2, 1, 2, 1, 2, 1, 2, 2, 1, 2, 2, 1, 2, 1, 2, 1, 2, 2, 1, 2, 2, 1, 2, 1, 2, 1, 2, 1, 2, 2, 2, 1, 2, 1, 2, 2, 1, 2, 2, 2, 1, 2, 2, 1, 2, 1, 2, 1, 1, 2, 1, 2, 1, 2, 1, 2, 1, 2, 1, 2, 1, 2, 1, 2, 1, 1, 1, 1, 1, 2, 1, 1, 1, 2, 1, 1, 1, 2, 1, 2, 1, 2, 1, 1, 2, 1, 1, 1, 2, 1, 1, 2]\n",
    "\n",
    "\n",
    "# CGMP guess.\n",
    "pi = [.5/3, .5/6, .5/3, 1.0/6]\n",
    "A = [0.25 0.75 0 0; 0.5 0.0 0.5 0.; 0 0 0.25 0.75; 0.1 0 0.9 0.]\n",
    "B = randn(4,4,2)\n",
    "B[:,:,1] = [0 1.0 0 0; 0 0 1.0 0; 0 0 1.0 0; 0 0 1.0 0]\n",
    "B[:,:,2] = [1.0 0 0 0; 1.0 0 0 0; 0 0 0 1.0; 1.0 0 0 0]\n",
    "cgmpGuess = {pi, A, B};"
   ]
  },
  {
   "cell_type": "markdown",
   "metadata": {},
   "source": [
    "## 2. Function definitions.\n",
    "Here we define a number of functions. There are various helper functions, but most importantly are LL and gradLL, that are the loglikelihood and the gradient of the log-likelihood, respectively.\n",
    "\n",
    "Investigating the log-likelihood function, we can note that there is a major barrier to computation: the summation over all the possible hidden state paths $X$. This makes the methods completely unusable when the length of the data strings goes beyond 20. "
   ]
  },
  {
   "cell_type": "code",
   "execution_count": 3,
   "metadata": {
    "collapsed": false,
    "scrolled": true
   },
   "outputs": [],
   "source": [
    "# Log-Likelihood function for an HMM.\n",
    "function LL(theta,Y)\n",
    "    pi,A,B = theta[1], theta[2], theta[3]\n",
    "    s = prob(theta,Y)\n",
    "    return log(s)\n",
    "end\n",
    "\n",
    "# Gradient of log-likelihood.\n",
    "function gradLL(theta,Y)\n",
    "    pi,A,B = theta[1], theta[2], theta[3]\n",
    "    n = length(A[1,:]) # Hidden states\n",
    "    m = length(B[1,1,:]) # Observed states\n",
    "    T = length(Y) # Data length\n",
    "    xpaths = getpaths(n,T+1)\n",
    "    \n",
    "    dldpi = zeros(n)\n",
    "    dldA = zeros(n,n)\n",
    "    dldB = zeros(n,n,m)\n",
    "    \n",
    "    for i in 1:n\n",
    "        for X in getpaths(n,T+1-1)\n",
    "            if pi[i] != 0.0\n",
    "                x = [i; [x1 for x1 in X]]\n",
    "                dldpi[i] += 1/pi[i] * prob(theta,x,Y)\n",
    "            end\n",
    "        end\n",
    "    end\n",
    "\n",
    "    #=\n",
    "    for i in 1:n\n",
    "        for X in xpaths\n",
    "            if X[1] == i && pi[i] != 0.0\n",
    "                dldpi[i] += 1/pi[i] * prob(theta,X,Y)\n",
    "            end\n",
    "        end\n",
    "    end\n",
    "    =#\n",
    "    \n",
    "    for i in 1:n\n",
    "        for j in 1:n\n",
    "            for X in xpaths\n",
    "                p = prob(theta,X,Y)\n",
    "                for t in 1:T\n",
    "                    if X[t]==i && X[t+1]==j && A[i,j] != 0.0\n",
    "                        dldA[i,j] += 1/A[i,j] * p\n",
    "                    end\n",
    "                end\n",
    "            end\n",
    "        end\n",
    "    end\n",
    "    \n",
    "    for i in 1:n\n",
    "        for j in 1:n\n",
    "            for k in 1:m\n",
    "                for X in xpaths\n",
    "                    p = prob(theta,X,Y)\n",
    "                    for t in 1:T\n",
    "                        if X[t]==i && X[t+1]==j && Y[t] == k && B[i,j,k] != 0.0\n",
    "                            dldB[i,j,k] += 1/B[i,j,k] * p\n",
    "                        end\n",
    "                    end\n",
    "                end\n",
    "            end\n",
    "        end\n",
    "    end\n",
    "    \n",
    "    dldtheta = {dldpi, dldA, dldB}\n",
    "    \n",
    "    return dldtheta\n",
    "end\n",
    "\n",
    "# The expectation function\n",
    "function Q(thetav,theta)\n",
    "    piv,Av,Bv = thetav[1], thetav[2], thetav[3]\n",
    "    pi,A,B = theta[1], theta[2], theta[3]\n",
    "    n = length(A[1,:]) # Hidden states\n",
    "    m = length(B[1,1,:]) # Observed states\n",
    "    T = length(Y) # Data length\n",
    "    xpaths = getpaths(n,T+1)\n",
    "    \n",
    "    s = 0\n",
    "    for X in xpaths\n",
    "        s += log(P(theta,X,Y)) * P(thetav,X,Y)\n",
    "    end\n",
    "    \n",
    "    return s\n",
    "end\n",
    "\n",
    "function dQ(thetav,theta)\n",
    "    piv,Av,Bv = thetav[1], thetav[2], thetav[3]\n",
    "    pi,A,B = theta[1], theta[2], theta[3]\n",
    "    n = length(A[1,:]) # Hidden states\n",
    "    m = length(B[1,1,:]) # Observed states\n",
    "    T = length(Y) # Data length\n",
    "    xpaths = getpaths(n,T+1)\n",
    "    \n",
    "    dqdpi = zeros(n)\n",
    "    dqdA = zeros(n,n)\n",
    "    dqdB = zeros(n,n,m)\n",
    "    \n",
    "    for i in 1:n\n",
    "        for X in getpaths(n,T+1-1)\n",
    "            if pi[i] != 0.0\n",
    "                x = [i; [x1 for x1 in X]]\n",
    "                dqdpi[i] += 1/pi[i] * prob(thetav,x,Y)\n",
    "            end\n",
    "        end\n",
    "    end\n",
    "\n",
    "    #=\n",
    "    for i in 1:n\n",
    "        for X in xpaths\n",
    "            if X[1] == i && pi[i] != 0.0\n",
    "                dqdpi[i] += 1/pi[i] * prob(thetav,X,Y)\n",
    "            end\n",
    "        end\n",
    "    end\n",
    "    =#\n",
    "    \n",
    "    for i in 1:n\n",
    "        for j in 1:n\n",
    "            for X in xpaths\n",
    "                p = prob(thetav,X,Y)\n",
    "                for t in 1:T\n",
    "                    if X[t]==i && X[t+1]==j && A[i,j] != 0.0\n",
    "                        dqdA[i,j] += 1/A[i,j] * p\n",
    "                    end\n",
    "                end\n",
    "            end\n",
    "        end\n",
    "    end\n",
    "    \n",
    "    for i in 1:n\n",
    "        for j in 1:n\n",
    "            for k in 1:m\n",
    "                for X in xpaths\n",
    "                    p = prob(thetav,X,Y)\n",
    "                    for t in 1:T\n",
    "                        if X[t]==i && X[t+1]==j && Y[t] == k && B[i,j,k] != 0.0\n",
    "                            dqdB[i,j,k] += 1/B[i,j,k] * p\n",
    "                        end\n",
    "                    end\n",
    "                end\n",
    "            end\n",
    "        end\n",
    "    end\n",
    "    \n",
    "    dqdtheta = {dqdpi, dqdA, dqdB}\n",
    "    \n",
    "    return dqdtheta\n",
    "end\n",
    "\n",
    "\n",
    "# Computes P(Y | theta).\n",
    "function prob(theta,Y)\n",
    "    s = 0\n",
    "    n = length(theta[2][1,:])\n",
    "    T = length(theta[3][1,1,:])\n",
    "    for X in getpaths(n,T+1)\n",
    "        s += prob(theta,X,Y)\n",
    "    end\n",
    "\n",
    "    return s\n",
    "end\n",
    "\n",
    "# Computes P(X, Y| theta).\n",
    "function prob(theta,X,Y)\n",
    "    pi,A,B = theta[1], theta[2], theta[3]\n",
    "    p = pi[X[1]]\n",
    "    T = length(theta[3][1,1,:])\n",
    "    for t in 1:T\n",
    "        if p == 0\n",
    "            break\n",
    "        end\n",
    "        p = p * A[X[t],X[t+1]] * B[X[t],X[t+1],Y[t]]\n",
    "    end\n",
    "    return p\n",
    "end\n",
    "\n",
    "# Objective function.\n",
    "function obj(x,Y)\n",
    "    f = LL(x,Y)\n",
    "    g = gradLL(x,Y)\n",
    "    gv = [g[1][:]; g[2][:]; g[3][:]]\n",
    "    H = eye(3)\n",
    "    return (f,g,gv,H)\n",
    "end\n",
    "\n",
    "# Reshape theta out of vector form.\n",
    "function thetashaper(th,n,m)\n",
    "    theta = {th[1:n], reshape(th[(n+1):(n + n^2)],n,n), reshape(th[(n+1+n^2):end],n,n,m)}\n",
    "    return theta\n",
    "end\n",
    "\n",
    "# Create hidden state paths.\n",
    "# A convoluted metaprogramming route to taking the n^th Cartesian product of\n",
    "# the vector 1:T. Really, Julia?\n",
    "function getpaths(n,T)\n",
    "    cmd = string(\"product(1:\",n)\n",
    "    ran = string(\",1:\",n)\n",
    "    for i in 1:(T-1)\n",
    "        cmd = string(cmd,ran)\n",
    "    end\n",
    "    cmd = string(cmd,\")\") # cmd should now be \"product(1:(T-1),...,1:(T-1))\"\n",
    "    xpaths = eval(parse(cmd))\n",
    "    return xpaths\n",
    "end\n",
    "\n",
    "1;"
   ]
  },
  {
   "cell_type": "markdown",
   "metadata": {},
   "source": [
    "## 3.1 Direct optimization - steepest descent.\n",
    "### 3.1.1 Even.\n",
    "We now apply steepest descent to both the evenGuess and the cgmpGuess, in the hope that they converge to the original HMM that produced the data."
   ]
  },
  {
   "cell_type": "code",
   "execution_count": 4,
   "metadata": {
    "collapsed": false,
    "scrolled": true
   },
   "outputs": [
    {
     "name": "stdout",
     "output_type": "stream",
     "text": [
      "elapsed time: 3.914792493 seconds\n",
      "Running Dmitry's Steepest Descent method on the even process!\n",
      "\n",
      "Iterations                 Time           Norm(grad)   Norm(true - found)\n",
      "        10          3463.939592             3.914792          3457.600059\n"
     ]
    }
   ],
   "source": [
    "# Steepest descent.\n",
    "thetac = evenGuess\n",
    "its = 0\n",
    "gv = [2]\n",
    "T = 10\n",
    "# Vars.\n",
    "n = length(thetac[2][1,:]) # Hidden states\n",
    "m = length(thetac[3][1,1,:]) # Observed states\n",
    "\n",
    "\n",
    "tic();\n",
    "while its < 10 && norm(gv,2) > 1.0e-2\n",
    "    (f,g,gv,H) = obj(thetac,evenY[1:T])\n",
    "    thetan = thetac + g\n",
    "\n",
    "    # Normalize (project).\n",
    "    thetan[1] /= sum(thetan[1])\n",
    "    for i in 1:n\n",
    "        if sum(thetan[2][i,:]) != 0\n",
    "            thetan[2][i,:] /= sum(thetan[2][i,:])\n",
    "        end\n",
    "    end\n",
    "    for k in 1:m\n",
    "        for i in 1:n\n",
    "            if sum(thetan[3][i,:,k]) != 0\n",
    "                thetan[3][i,:,k] /= sum(thetan[3][i,:,k])\n",
    "            end\n",
    "        end\n",
    "    end\n",
    "    \n",
    "    its += 1\n",
    "    thetac = thetan\n",
    "end\n",
    "tim = toc();\n",
    "\n",
    "print(\"Running Dmitry's Steepest Descent method on the even process!\\n\\n\")\n",
    "@printf \"%10s %20s %20s %20s\\n\" \"Iterations\" \"Time\" \"Norm(grad)\" \"Norm(true - found)\"\n",
    "tr = [even[1][:]; even[2][:]; even[3][:]]\n",
    "@printf \"%10d %20f %20f %20f\\n\" its norm(gv,2) tim norm(tr[3:end] - gv[3:end],2)"
   ]
  },
  {
   "cell_type": "markdown",
   "metadata": {},
   "source": [
    "### Inferred parameters:"
   ]
  },
  {
   "cell_type": "code",
   "execution_count": 5,
   "metadata": {
    "collapsed": false
   },
   "outputs": [
    {
     "data": {
      "text/plain": [
       "3-element Array{Any,1}:\n",
       " [1.0,3.195351973838682e-17]                                                             \n",
       " 2x2 Array{Float64,2}:\n",
       " 0.225097  0.774903\n",
       " 1.0       0.0                                \n",
       " 2x2x2 Array{Float64,3}:\n",
       "[:, :, 1] =\n",
       " 1.0  0.0\n",
       " 0.0  0.0\n",
       "\n",
       "[:, :, 2] =\n",
       " 0.0  1.0\n",
       " 1.0  0.0"
      ]
     },
     "execution_count": 5,
     "metadata": {},
     "output_type": "execute_result"
    }
   ],
   "source": [
    "thetac"
   ]
  },
  {
   "cell_type": "code",
   "execution_count": 6,
   "metadata": {
    "collapsed": false
   },
   "outputs": [
    {
     "data": {
      "text/plain": [
       "3-element Array{Any,1}:\n",
       " [0.3333333333333333,0.6666666666666666]                                                 \n",
       " 2x2 Array{Float64,2}:\n",
       " 0.5  0.5\n",
       " 1.0  0.0                                               \n",
       " 2x2x2 Array{Float64,3}:\n",
       "[:, :, 1] =\n",
       " 1.0  0.0\n",
       " 0.0  0.0\n",
       "\n",
       "[:, :, 2] =\n",
       " 0.0  1.0\n",
       " 1.0  0.0"
      ]
     },
     "execution_count": 6,
     "metadata": {},
     "output_type": "execute_result"
    }
   ],
   "source": [
    "even"
   ]
  },
  {
   "cell_type": "markdown",
   "metadata": {},
   "source": [
    "### 3.1.2 CGMP.\n",
    "Now we run the same procedure on the cgmp process."
   ]
  },
  {
   "cell_type": "code",
   "execution_count": 7,
   "metadata": {
    "collapsed": false
   },
   "outputs": [
    {
     "name": "stdout",
     "output_type": "stream",
     "text": [
      "elapsed time: 14.958509811 seconds\n",
      "Running Dmitry's Steepest Descent method on the even process!\n",
      "\n",
      "Iterations                 Time           Norm(grad)   Norm(true - found)\n",
      "         2          1120.991065            14.958510          1059.777048\n"
     ]
    }
   ],
   "source": [
    "# Steepest descent.\n",
    "thetac = cgmpGuess\n",
    "its = 0\n",
    "gv = [2]\n",
    "T = 6\n",
    "# Vars.\n",
    "n = length(thetac[2][1,:]) # Hidden states\n",
    "m = length(thetac[3][1,1,:]) # Observed states\n",
    "\n",
    "\n",
    "tic();\n",
    "while its < 2 && norm(gv,2) > 1.0e-2\n",
    "    (f,g,gv,H) = obj(thetac,cgmpY[1:T])\n",
    "    thetan = thetac + g\n",
    "\n",
    "    # Normalize (project).\n",
    "    thetan[1] /= sum(thetan[1])\n",
    "    for i in 1:n\n",
    "        if sum(thetan[2][i,:]) != 0\n",
    "            thetan[2][i,:] /= sum(thetan[2][i,:])\n",
    "        end\n",
    "    end\n",
    "    for k in 1:m\n",
    "        for i in 1:n\n",
    "            if sum(thetan[3][i,:,k]) != 0\n",
    "                thetan[3][i,:,k] /= sum(thetan[3][i,:,k])\n",
    "            end\n",
    "        end\n",
    "    end\n",
    "    \n",
    "    its += 1\n",
    "    thetac = thetan\n",
    "end\n",
    "tim = toc();\n",
    "\n",
    "print(\"Running Dmitry's Steepest Descent method on the even process!\\n\\n\")\n",
    "@printf \"%10s %20s %20s %20s\\n\" \"Iterations\" \"Time\" \"Norm(grad)\" \"Norm(true - found)\"\n",
    "tr = [cgmp[1][:]; cgmp[2][:]; cgmp[3][:]]\n",
    "@printf \"%10d %20f %20f %20f\\n\" its norm(gv,2) tim norm(tr[n+1:end] - gv[n+1:end],2)"
   ]
  },
  {
   "cell_type": "markdown",
   "metadata": {},
   "source": [
    "### Inferred parameters:"
   ]
  },
  {
   "cell_type": "code",
   "execution_count": 8,
   "metadata": {
    "collapsed": false,
    "scrolled": false
   },
   "outputs": [
    {
     "data": {
      "text/plain": [
       "3-element Array{Any,1}:\n",
       " [0.29021386187832066,0.22675711568665907,0.17324892604453904,0.30978009639048126]                                                                                                                               \n",
       " 4x4 Array{Float64,2}:\n",
       " 0.292596  0.707404  0.0       0.0     \n",
       " 0.584736  0.0       0.415264  0.0     \n",
       " 0.0       0.0       0.329875  0.670125\n",
       " 0.113624  0.0       0.886376  0.0                                \n",
       " 4x4x2 Array{Float64,3}:\n",
       "[:, :, 1] =\n",
       " 0.0  1.0  0.0  0.0\n",
       " 0.0  0.0  1.0  0.0\n",
       " 0.0  0.0  1.0  0.0\n",
       " 0.0  0.0  1.0  0.0\n",
       "\n",
       "[:, :, 2] =\n",
       " 1.0  0.0  0.0  0.0\n",
       " 1.0  0.0  0.0  0.0\n",
       " 0.0  0.0  0.0  1.0\n",
       " 1.0  0.0  0.0  0.0"
      ]
     },
     "execution_count": 8,
     "metadata": {},
     "output_type": "execute_result"
    }
   ],
   "source": [
    "thetac"
   ]
  },
  {
   "cell_type": "code",
   "execution_count": 9,
   "metadata": {
    "collapsed": false
   },
   "outputs": [
    {
     "data": {
      "text/plain": [
       "3-element Array{Any,1}:\n",
       " [0.3333333333333333,0.16666666666666666,0.3333333333333333,0.16666666666666666]                                                                                                                                 \n",
       " 4x4 Array{Float64,2}:\n",
       " 0.5    0.5  0.0    0.0\n",
       " 0.995  0.0  0.005  0.0\n",
       " 0.0    0.0  0.5    0.5\n",
       " 0.005  0.0  0.995  0.0                                                                                           \n",
       " 4x4x2 Array{Float64,3}:\n",
       "[:, :, 1] =\n",
       " 0.0  1.0  0.0  0.0\n",
       " 0.0  0.0  1.0  0.0\n",
       " 0.0  0.0  1.0  0.0\n",
       " 0.0  0.0  1.0  0.0\n",
       "\n",
       "[:, :, 2] =\n",
       " 1.0  0.0  0.0  0.0\n",
       " 1.0  0.0  0.0  0.0\n",
       " 0.0  0.0  0.0  1.0\n",
       " 1.0  0.0  0.0  0.0"
      ]
     },
     "execution_count": 9,
     "metadata": {},
     "output_type": "execute_result"
    }
   ],
   "source": [
    "cgmp"
   ]
  },
  {
   "cell_type": "markdown",
   "metadata": {},
   "source": [
    "## 3.2 Direct optimization - BFGS.\n",
    "### 3.2.1 Even."
   ]
  },
  {
   "cell_type": "code",
   "execution_count": 10,
   "metadata": {
    "collapsed": false
   },
   "outputs": [
    {
     "data": {
      "text/plain": [
       "thetaunshaper (generic function with 1 method)"
      ]
     },
     "execution_count": 10,
     "metadata": {},
     "output_type": "execute_result"
    }
   ],
   "source": [
    "function thetaunshaper(theta)\n",
    "    return [theta[1][:]; theta[2][:]; theta[3][:]]\n",
    "end"
   ]
  },
  {
   "cell_type": "code",
   "execution_count": 11,
   "metadata": {
    "collapsed": false
   },
   "outputs": [
    {
     "name": "stderr",
     "output_type": "stream",
     "text": [
      "WARNING: [a,b,...] concatenation is deprecated; use [a;b;...] instead\n",
      " in depwarn at deprecated.jl:73\n",
      " in oldstyle_vcat_warning at abstractarray.jl:29\n",
      " in vect at abstractarray.jl:32\n",
      " [inlined code] from In[11]:15\n",
      " in anonymous at no file:14\n",
      " in include_string at loading.jl:266\n",
      " in execute_request_0x535c5df2 at C:\\Users\\Dmitry\\.julia\\v0.4\\IJulia\\src\\execute_request.jl:177\n",
      " in eventloop at C:\\Users\\Dmitry\\.julia\\v0.4\\IJulia\\src\\IJulia.jl:141\n",
      " in anonymous at task.jl:447\n",
      "while loading In[11], in expression starting on line 13\n",
      "WARNING: [a,b,...] concatenation is deprecated; use [a;b;...] instead"
     ]
    },
    {
     "name": "stdout",
     "output_type": "stream",
     "text": [
      "elapsed time: "
     ]
    },
    {
     "name": "stderr",
     "output_type": "stream",
     "text": [
      "\n",
      " in depwarn at deprecated.jl:73\n",
      " in oldstyle_vcat_warning at abstractarray.jl:29\n",
      " in vect at abstractarray.jl:32\n",
      " [inlined code] from In[11]:15\n",
      " in anonymous at no file:14\n",
      " in include_string at loading.jl:266\n",
      " in execute_request_0x535c5df2 at C:\\Users\\Dmitry\\.julia\\v0.4\\IJulia\\src\\execute_request.jl:177\n",
      " in eventloop at C:\\Users\\Dmitry\\.julia\\v0.4\\IJulia\\src\\IJulia.jl:141\n",
      " in anonymous at task.jl:447\n",
      "while loading In[11], in expression starting on line 13\n"
     ]
    },
    {
     "name": "stdout",
     "output_type": "stream",
     "text": [
      "4.46831473 seconds\n",
      "Running Dmitry's BFGS method on the even process!\n",
      "\n",
      "Iterations                 Time           Norm(grad)   Norm(true - found)\n",
      "         4             0.766818             4.468315             2.072375\n"
     ]
    }
   ],
   "source": [
    "# BFGS.\n",
    "# Initialize parameters.\n",
    "its = 0\n",
    "thetac = evenGuess\n",
    "n = length(thetac[2][1,:]) # Hidden states\n",
    "m = length(thetac[3][1,1,:]) # Observed states\n",
    "T = 10\n",
    "\n",
    "(f,g,gv,H) = obj(thetac,evenY[1:T])\n",
    "B = eye(length(gv))\n",
    "d = []\n",
    "tic();\n",
    "while (its < 4 && norm(gv,2)>1.0e-2)\n",
    "    (f,g,gv,H) = obj(thetac,evenY[1:T])\n",
    "    gv = [g[1][:], g[2][:], g[3][:]]\n",
    "    d = B \\ (-gv)\n",
    "\n",
    "    # Backtracking linesearch.\n",
    "    alpha = .01;\n",
    "    mu = 10^-1.0;\n",
    "    th = thetaunshaper(thetac)\n",
    "    (newf,newg,newgv,_) = obj(thetashaper(abs(th+alpha*d),n,m),evenY[1:T]);\n",
    "    while newf > f + (alpha*mu)*(dot(gv,d))\n",
    "        (newf,newg,newgv,_) = obj(thetashaper(abs(th+alpha*d),n,m),evenY[1:T]);\n",
    "        alpha = alpha/2;\n",
    "    end\n",
    "    \n",
    "    # Update x.\n",
    "    thetan = thetac + thetashaper(alpha*d,n,m)\n",
    "    thetan[1] = abs(thetan[1])\n",
    "    thetan[2] = abs(thetan[2])\n",
    "    thetan[3] = abs(thetan[3])\n",
    "    \n",
    "    # Normalize.\n",
    "    thetan[1] /= sum(thetan[1])\n",
    "    for i in 1:n\n",
    "        if sum(thetan[2][i,:]) != 0\n",
    "            thetan[2][i,:] /= sum(thetan[2][i,:])\n",
    "        end\n",
    "    end\n",
    "    for k in 1:m\n",
    "        for i in 1:n\n",
    "            if sum(thetan[3][i,:,k]) != 0\n",
    "                thetan[3][i,:,k] /= sum(thetan[3][i,:,k])\n",
    "            end\n",
    "        end\n",
    "    end\n",
    "    \n",
    "    thetac = thetan\n",
    "    \n",
    "    \n",
    "    # Perform the BFGS update.\n",
    "    s = alpha*d\n",
    "    y = newgv - gv\n",
    "    B = B + (y*y') / dot(y,s) - ((B*s)*(s'*B)) / dot(s,B*s)\n",
    "\n",
    "    # Increment and store data.\n",
    "    its += 1\n",
    "end\n",
    "tim = toc();\n",
    "\n",
    "print(\"Running Dmitry's BFGS method on the even process!\\n\\n\")\n",
    "@printf \"%10s %20s %20s %20s\\n\" \"Iterations\" \"Time\" \"Norm(grad)\" \"Norm(true - found)\"\n",
    "tr = thetaunshaper(even)\n",
    "@printf \"%10d %20f %20f %20f\\n\" its norm(gv,2) tim norm(tr[n+1:end] - gv[n+1:end],2)"
   ]
  },
  {
   "cell_type": "code",
   "execution_count": 12,
   "metadata": {
    "collapsed": false
   },
   "outputs": [
    {
     "data": {
      "text/plain": [
       "3-element Array{Any,1}:\n",
       " [0.07935357985067698,0.9206464201493231]                                                \n",
       " 2x2 Array{Float64,2}:\n",
       " 0.00874852  0.991251\n",
       " 1.0         0.0                            \n",
       " 2x2x2 Array{Float64,3}:\n",
       "[:, :, 1] =\n",
       " 1.0  0.0\n",
       " 0.0  0.0\n",
       "\n",
       "[:, :, 2] =\n",
       " 0.0  1.0\n",
       " 1.0  0.0"
      ]
     },
     "execution_count": 12,
     "metadata": {},
     "output_type": "execute_result"
    }
   ],
   "source": [
    "thetac"
   ]
  },
  {
   "cell_type": "code",
   "execution_count": 13,
   "metadata": {
    "collapsed": false
   },
   "outputs": [
    {
     "data": {
      "text/plain": [
       "3-element Array{Any,1}:\n",
       " [0.3333333333333333,0.6666666666666666]                                                 \n",
       " 2x2 Array{Float64,2}:\n",
       " 0.5  0.5\n",
       " 1.0  0.0                                               \n",
       " 2x2x2 Array{Float64,3}:\n",
       "[:, :, 1] =\n",
       " 1.0  0.0\n",
       " 0.0  0.0\n",
       "\n",
       "[:, :, 2] =\n",
       " 0.0  1.0\n",
       " 1.0  0.0"
      ]
     },
     "execution_count": 13,
     "metadata": {},
     "output_type": "execute_result"
    }
   ],
   "source": [
    "even"
   ]
  },
  {
   "cell_type": "markdown",
   "metadata": {},
   "source": [
    "### 3.2.2 CGMP"
   ]
  },
  {
   "cell_type": "code",
   "execution_count": 14,
   "metadata": {
    "collapsed": false
   },
   "outputs": [
    {
     "name": "stdout",
     "output_type": "stream",
     "text": [
      "elapsed time: 15.325888577 seconds\n",
      "Running Dmitry's BFGS method on the even process!\n",
      "\n",
      "Iterations                 Time           Norm(grad)   Norm(true - found)\n",
      "         4            23.687618            15.325889            23.185248\n"
     ]
    }
   ],
   "source": [
    "# BFGS.\n",
    "# Initialize parameters.\n",
    "its = 0\n",
    "thetac = cgmpGuess\n",
    "n = length(thetac[2][1,:]) # Hidden states\n",
    "m = length(thetac[3][1,1,:]) # Observed states\n",
    "T = 5\n",
    "\n",
    "(f,g,gv,H) = obj(thetac,cgmpY[1:T])\n",
    "B = eye(length(gv))\n",
    "d = []\n",
    "tic();\n",
    "while (its < 4 && norm(gv,2)>1.0e-2)\n",
    "    (f,g,gv,H) = obj(thetac,cgmpY[1:T])\n",
    "    gv = [g[1][:], g[2][:], g[3][:]]\n",
    "    d = B \\ (-gv)\n",
    "\n",
    "    # Backtracking linesearch.\n",
    "    alpha = .01;\n",
    "    mu = 10^-1.0;\n",
    "    th = thetaunshaper(thetac)\n",
    "    (newf,newg,newgv,_) = obj(thetashaper(abs(th+alpha*d),n,m),cgmpY[1:T]);\n",
    "    while newf > f + (alpha*mu)*(dot(gv,d))\n",
    "        (newf,newg,newgv,_) = obj(thetashaper(abs(th+alpha*d),n,m),cgmpY[1:T]);\n",
    "        alpha = alpha/2;\n",
    "    end\n",
    "    \n",
    "    # Update x.\n",
    "    thetan = thetac + thetashaper(alpha*d,n,m)\n",
    "    thetan[1] = abs(thetan[1])\n",
    "    thetan[2] = abs(thetan[2])\n",
    "    thetan[3] = abs(thetan[3])\n",
    "    \n",
    "    # Normalize.\n",
    "    thetan[1] /= sum(thetan[1])\n",
    "    for i in 1:n\n",
    "        if sum(thetan[2][i,:]) != 0\n",
    "            thetan[2][i,:] /= sum(thetan[2][i,:])\n",
    "        end\n",
    "    end\n",
    "    for k in 1:m\n",
    "        for i in 1:n\n",
    "            if sum(thetan[3][i,:,k]) != 0\n",
    "                thetan[3][i,:,k] /= sum(thetan[3][i,:,k])\n",
    "            end\n",
    "        end\n",
    "    end\n",
    "    \n",
    "    thetac = thetan\n",
    "    \n",
    "    \n",
    "    # Perform the BFGS update.\n",
    "    s = alpha*d\n",
    "    y = newgv - gv\n",
    "    B = B + (y*y') / dot(y,s) - ((B*s)*(s'*B)) / dot(s,B*s)\n",
    "\n",
    "    # Increment and store data.\n",
    "    its += 1\n",
    "end\n",
    "tim = toc();\n",
    "\n",
    "print(\"Running Dmitry's BFGS method on the even process!\\n\\n\")\n",
    "@printf \"%10s %20s %20s %20s\\n\" \"Iterations\" \"Time\" \"Norm(grad)\" \"Norm(true - found)\"\n",
    "tr = thetaunshaper(cgmp)\n",
    "@printf \"%10d %20f %20f %20f\\n\" its norm(gv,2) tim norm(tr[n+1:end] - gv[n+1:end],2)"
   ]
  },
  {
   "cell_type": "markdown",
   "metadata": {},
   "source": [
    "### Inferred parameters"
   ]
  },
  {
   "cell_type": "code",
   "execution_count": 15,
   "metadata": {
    "collapsed": false
   },
   "outputs": [
    {
     "data": {
      "text/plain": [
       "3-element Array{Any,1}:\n",
       " [0.34605151222912617,0.029073980886746335,0.256393108183601,0.3684813987005266]                                                                                                                                 \n",
       " 4x4 Array{Float64,2}:\n",
       " 0.076973   0.923027  0.0       0.0     \n",
       " 0.541069   0.0       0.458931  0.0     \n",
       " 0.0        0.0       0.259383  0.740617\n",
       " 0.0158367  0.0       0.984163  0.0                            \n",
       " 4x4x2 Array{Float64,3}:\n",
       "[:, :, 1] =\n",
       " 0.0  1.0  0.0  0.0\n",
       " 0.0  0.0  1.0  0.0\n",
       " 0.0  0.0  1.0  0.0\n",
       " 0.0  0.0  1.0  0.0\n",
       "\n",
       "[:, :, 2] =\n",
       " 1.0  0.0  0.0  0.0\n",
       " 1.0  0.0  0.0  0.0\n",
       " 0.0  0.0  0.0  1.0\n",
       " 1.0  0.0  0.0  0.0"
      ]
     },
     "execution_count": 15,
     "metadata": {},
     "output_type": "execute_result"
    }
   ],
   "source": [
    "thetac"
   ]
  },
  {
   "cell_type": "code",
   "execution_count": 16,
   "metadata": {
    "collapsed": false
   },
   "outputs": [
    {
     "data": {
      "text/plain": [
       "3-element Array{Any,1}:\n",
       " [0.3333333333333333,0.16666666666666666,0.3333333333333333,0.16666666666666666]                                                                                                                                 \n",
       " 4x4 Array{Float64,2}:\n",
       " 0.5    0.5  0.0    0.0\n",
       " 0.995  0.0  0.005  0.0\n",
       " 0.0    0.0  0.5    0.5\n",
       " 0.005  0.0  0.995  0.0                                                                                           \n",
       " 4x4x2 Array{Float64,3}:\n",
       "[:, :, 1] =\n",
       " 0.0  1.0  0.0  0.0\n",
       " 0.0  0.0  1.0  0.0\n",
       " 0.0  0.0  1.0  0.0\n",
       " 0.0  0.0  1.0  0.0\n",
       "\n",
       "[:, :, 2] =\n",
       " 1.0  0.0  0.0  0.0\n",
       " 1.0  0.0  0.0  0.0\n",
       " 0.0  0.0  0.0  1.0\n",
       " 1.0  0.0  0.0  0.0"
      ]
     },
     "execution_count": 16,
     "metadata": {},
     "output_type": "execute_result"
    }
   ],
   "source": [
    "cgmp"
   ]
  },
  {
   "cell_type": "markdown",
   "metadata": {},
   "source": [
    "## 4.1 Expectation maximization - steepest descent.\n",
    "### 4.1.1 Even."
   ]
  },
  {
   "cell_type": "code",
   "execution_count": 17,
   "metadata": {
    "collapsed": false
   },
   "outputs": [
    {
     "data": {
      "text/plain": [
       "obj (generic function with 2 methods)"
      ]
     },
     "execution_count": 17,
     "metadata": {},
     "output_type": "execute_result"
    }
   ],
   "source": [
    "function obj(theta,thetav,Y)\n",
    "    f = q(theta,thetav)\n",
    "    g = dq(theta,thetav)\n",
    "    gv = thetaunshaper(g)\n",
    "    n = length(theta[1][1,:])\n",
    "    H = ones(n)\n",
    "    return (f,g,gv,H)\n",
    "end"
   ]
  },
  {
   "cell_type": "code",
   "execution_count": 18,
   "metadata": {
    "collapsed": false
   },
   "outputs": [
    {
     "name": "stdout",
     "output_type": "stream",
     "text": [
      "elapsed time: 2.567484011 seconds\n",
      "Running Dmitry's Steepest Descent method on the even process!\n",
      "\n",
      "Iterations                 Time           Norm(grad)   Norm(true - found)\n",
      "        10          3463.939592             2.567484          3457.600059\n"
     ]
    }
   ],
   "source": [
    "# Steepest descent.\n",
    "thetac = evenGuess\n",
    "its = 0\n",
    "gv = [2]\n",
    "T = 10\n",
    "# Vars.\n",
    "n = length(thetac[2][1,:]) # Hidden states\n",
    "m = length(thetac[3][1,1,:]) # Observed states\n",
    "\n",
    "\n",
    "tic();\n",
    "while its < 10 && norm(gv,2) > 1.0e-2\n",
    "    (f,g,gv,H) = obj(thetac,evenY[1:T])\n",
    "    thetan = thetac + g\n",
    "\n",
    "    # Normalize (project).\n",
    "    thetan[1] /= sum(thetan[1])\n",
    "    for i in 1:n\n",
    "        if sum(thetan[2][i,:]) != 0\n",
    "            thetan[2][i,:] /= sum(thetan[2][i,:])\n",
    "        end\n",
    "    end\n",
    "    for k in 1:m\n",
    "        for i in 1:n\n",
    "            if sum(thetan[3][i,:,k]) != 0\n",
    "                thetan[3][i,:,k] /= sum(thetan[3][i,:,k])\n",
    "            end\n",
    "        end\n",
    "    end\n",
    "    \n",
    "    its += 1\n",
    "    thetac = thetan\n",
    "end\n",
    "tim = toc();\n",
    "\n",
    "print(\"Running Dmitry's Steepest Descent method on the even process!\\n\\n\")\n",
    "@printf \"%10s %20s %20s %20s\\n\" \"Iterations\" \"Time\" \"Norm(grad)\" \"Norm(true - found)\"\n",
    "tr = [even[1][:]; even[2][:]; even[3][:]]\n",
    "@printf \"%10d %20f %20f %20f\\n\" its norm(gv,2) tim norm(tr[3:end] - gv[3:end],2)"
   ]
  },
  {
   "cell_type": "markdown",
   "metadata": {},
   "source": [
    "### Inferred parameters"
   ]
  },
  {
   "cell_type": "code",
   "execution_count": 19,
   "metadata": {
    "collapsed": false
   },
   "outputs": [
    {
     "data": {
      "text/plain": [
       "3-element Array{Any,1}:\n",
       " [1.0,3.195351973838682e-17]                                                             \n",
       " 2x2 Array{Float64,2}:\n",
       " 0.225097  0.774903\n",
       " 1.0       0.0                                \n",
       " 2x2x2 Array{Float64,3}:\n",
       "[:, :, 1] =\n",
       " 1.0  0.0\n",
       " 0.0  0.0\n",
       "\n",
       "[:, :, 2] =\n",
       " 0.0  1.0\n",
       " 1.0  0.0"
      ]
     },
     "execution_count": 19,
     "metadata": {},
     "output_type": "execute_result"
    }
   ],
   "source": [
    "thetac"
   ]
  },
  {
   "cell_type": "code",
   "execution_count": 20,
   "metadata": {
    "collapsed": false
   },
   "outputs": [
    {
     "data": {
      "text/plain": [
       "3-element Array{Any,1}:\n",
       " [0.3333333333333333,0.6666666666666666]                                                 \n",
       " 2x2 Array{Float64,2}:\n",
       " 0.5  0.5\n",
       " 1.0  0.0                                               \n",
       " 2x2x2 Array{Float64,3}:\n",
       "[:, :, 1] =\n",
       " 1.0  0.0\n",
       " 0.0  0.0\n",
       "\n",
       "[:, :, 2] =\n",
       " 0.0  1.0\n",
       " 1.0  0.0"
      ]
     },
     "execution_count": 20,
     "metadata": {},
     "output_type": "execute_result"
    }
   ],
   "source": [
    "even"
   ]
  },
  {
   "cell_type": "markdown",
   "metadata": {},
   "source": [
    "### 4.1.2 CGMP."
   ]
  },
  {
   "cell_type": "code",
   "execution_count": 21,
   "metadata": {
    "collapsed": false
   },
   "outputs": [
    {
     "name": "stdout",
     "output_type": "stream",
     "text": [
      "elapsed time: 11.428779227 seconds\n",
      "Running Dmitry's Steepest Descent method on the even process!\n",
      "\n",
      "Iterations                 Time           Norm(grad)   Norm(true - found)\n",
      "         2          1120.991065            11.428779          1059.777048\n"
     ]
    }
   ],
   "source": [
    "# Steepest descent.\n",
    "thetac = cgmpGuess\n",
    "its = 0\n",
    "gv = [2]\n",
    "T = 6\n",
    "# Vars.\n",
    "n = length(thetac[2][1,:]) # Hidden states\n",
    "m = length(thetac[3][1,1,:]) # Observed states\n",
    "\n",
    "\n",
    "tic();\n",
    "while its < 2 && norm(gv,2) > 1.0e-2\n",
    "    (f,g,gv,H) = obj(thetac,cgmpY[1:T])\n",
    "    thetan = thetac + g\n",
    "\n",
    "    # Normalize (project).\n",
    "    thetan[1] /= sum(thetan[1])\n",
    "    for i in 1:n\n",
    "        if sum(thetan[2][i,:]) != 0\n",
    "            thetan[2][i,:] /= sum(thetan[2][i,:])\n",
    "        end\n",
    "    end\n",
    "    for k in 1:m\n",
    "        for i in 1:n\n",
    "            if sum(thetan[3][i,:,k]) != 0\n",
    "                thetan[3][i,:,k] /= sum(thetan[3][i,:,k])\n",
    "            end\n",
    "        end\n",
    "    end\n",
    "    \n",
    "    its += 1\n",
    "    thetac = thetan\n",
    "end\n",
    "tim = toc();\n",
    "\n",
    "print(\"Running Dmitry's Steepest Descent method on the even process!\\n\\n\")\n",
    "@printf \"%10s %20s %20s %20s\\n\" \"Iterations\" \"Time\" \"Norm(grad)\" \"Norm(true - found)\"\n",
    "tr = [cgmp[1][:]; cgmp[2][:]; cgmp[3][:]]\n",
    "@printf \"%10d %20f %20f %20f\\n\" its norm(gv,2) tim norm(tr[n+1:end] - gv[n+1:end],2)"
   ]
  },
  {
   "cell_type": "markdown",
   "metadata": {},
   "source": [
    "### Inferred parameters."
   ]
  },
  {
   "cell_type": "code",
   "execution_count": 22,
   "metadata": {
    "collapsed": false
   },
   "outputs": [
    {
     "data": {
      "text/plain": [
       "3-element Array{Any,1}:\n",
       " [0.29021386187832066,0.22675711568665907,0.17324892604453904,0.30978009639048126]                                                                                                                               \n",
       " 4x4 Array{Float64,2}:\n",
       " 0.292596  0.707404  0.0       0.0     \n",
       " 0.584736  0.0       0.415264  0.0     \n",
       " 0.0       0.0       0.329875  0.670125\n",
       " 0.113624  0.0       0.886376  0.0                                \n",
       " 4x4x2 Array{Float64,3}:\n",
       "[:, :, 1] =\n",
       " 0.0  1.0  0.0  0.0\n",
       " 0.0  0.0  1.0  0.0\n",
       " 0.0  0.0  1.0  0.0\n",
       " 0.0  0.0  1.0  0.0\n",
       "\n",
       "[:, :, 2] =\n",
       " 1.0  0.0  0.0  0.0\n",
       " 1.0  0.0  0.0  0.0\n",
       " 0.0  0.0  0.0  1.0\n",
       " 1.0  0.0  0.0  0.0"
      ]
     },
     "execution_count": 22,
     "metadata": {},
     "output_type": "execute_result"
    }
   ],
   "source": [
    "thetac"
   ]
  },
  {
   "cell_type": "code",
   "execution_count": 23,
   "metadata": {
    "collapsed": false
   },
   "outputs": [
    {
     "data": {
      "text/plain": [
       "3-element Array{Any,1}:\n",
       " [0.3333333333333333,0.16666666666666666,0.3333333333333333,0.16666666666666666]                                                                                                                                 \n",
       " 4x4 Array{Float64,2}:\n",
       " 0.5    0.5  0.0    0.0\n",
       " 0.995  0.0  0.005  0.0\n",
       " 0.0    0.0  0.5    0.5\n",
       " 0.005  0.0  0.995  0.0                                                                                           \n",
       " 4x4x2 Array{Float64,3}:\n",
       "[:, :, 1] =\n",
       " 0.0  1.0  0.0  0.0\n",
       " 0.0  0.0  1.0  0.0\n",
       " 0.0  0.0  1.0  0.0\n",
       " 0.0  0.0  1.0  0.0\n",
       "\n",
       "[:, :, 2] =\n",
       " 1.0  0.0  0.0  0.0\n",
       " 1.0  0.0  0.0  0.0\n",
       " 0.0  0.0  0.0  1.0\n",
       " 1.0  0.0  0.0  0.0"
      ]
     },
     "execution_count": 23,
     "metadata": {},
     "output_type": "execute_result"
    }
   ],
   "source": [
    "cgmp"
   ]
  },
  {
   "cell_type": "markdown",
   "metadata": {},
   "source": [
    "## 4.2 Expectation maximization - BFGS.\n",
    "### 4.2.1 Even."
   ]
  },
  {
   "cell_type": "code",
   "execution_count": 24,
   "metadata": {
    "collapsed": false
   },
   "outputs": [
    {
     "name": "stdout",
     "output_type": "stream",
     "text": [
      "elapsed time: 2.131270447 seconds\n",
      "Running Dmitry's BFGS method on the even process!\n",
      "\n",
      "Iterations                 Time           Norm(grad)   Norm(true - found)\n",
      "         4             0.766818             2.131270             2.072375\n"
     ]
    }
   ],
   "source": [
    "# BFGS.\n",
    "# Initialize parameters.\n",
    "its = 0\n",
    "thetac = evenGuess\n",
    "n = length(thetac[2][1,:]) # Hidden states\n",
    "m = length(thetac[3][1,1,:]) # Observed states\n",
    "T = 10\n",
    "\n",
    "(f,g,gv,H) = obj(thetac,evenY[1:T])\n",
    "B = eye(length(gv))\n",
    "d = []\n",
    "tic();\n",
    "while (its < 4 && norm(gv,2)>1.0e-2)\n",
    "    (f,g,gv,H) = obj(thetac,evenY[1:T])\n",
    "    gv = [g[1][:], g[2][:], g[3][:]]\n",
    "    d = B \\ (-gv)\n",
    "\n",
    "    # Backtracking linesearch.\n",
    "    alpha = .01;\n",
    "    mu = 10^-1.0;\n",
    "    th = thetaunshaper(thetac)\n",
    "    (newf,newg,newgv,_) = obj(thetashaper(abs(th+alpha*d),n,m),evenY[1:T]);\n",
    "    while newf > f + (alpha*mu)*(dot(gv,d))\n",
    "        (newf,newg,newgv,_) = obj(thetashaper(abs(th+alpha*d),n,m),evenY[1:T]);\n",
    "        alpha = alpha/2;\n",
    "    end\n",
    "    \n",
    "    # Update x.\n",
    "    thetan = thetac + thetashaper(alpha*d,n,m)\n",
    "    thetan[1] = abs(thetan[1])\n",
    "    thetan[2] = abs(thetan[2])\n",
    "    thetan[3] = abs(thetan[3])\n",
    "    \n",
    "    # Normalize.\n",
    "    thetan[1] /= sum(thetan[1])\n",
    "    for i in 1:n\n",
    "        if sum(thetan[2][i,:]) != 0\n",
    "            thetan[2][i,:] /= sum(thetan[2][i,:])\n",
    "        end\n",
    "    end\n",
    "    for k in 1:m\n",
    "        for i in 1:n\n",
    "            if sum(thetan[3][i,:,k]) != 0\n",
    "                thetan[3][i,:,k] /= sum(thetan[3][i,:,k])\n",
    "            end\n",
    "        end\n",
    "    end\n",
    "    \n",
    "    thetac = thetan\n",
    "    \n",
    "    \n",
    "    # Perform the BFGS update.\n",
    "    s = alpha*d\n",
    "    y = newgv - gv\n",
    "    B = B + (y*y') / dot(y,s) - ((B*s)*(s'*B)) / dot(s,B*s)\n",
    "\n",
    "    # Increment and store data.\n",
    "    its += 1\n",
    "end\n",
    "tim = toc();\n",
    "\n",
    "print(\"Running Dmitry's BFGS method on the even process!\\n\\n\")\n",
    "@printf \"%10s %20s %20s %20s\\n\" \"Iterations\" \"Time\" \"Norm(grad)\" \"Norm(true - found)\"\n",
    "tr = thetaunshaper(even)\n",
    "@printf \"%10d %20f %20f %20f\\n\" its norm(gv,2) tim norm(tr[n+1:end] - gv[n+1:end],2)"
   ]
  },
  {
   "cell_type": "markdown",
   "metadata": {},
   "source": [
    "### Inferred parameters."
   ]
  },
  {
   "cell_type": "code",
   "execution_count": 25,
   "metadata": {
    "collapsed": false
   },
   "outputs": [
    {
     "data": {
      "text/plain": [
       "3-element Array{Any,1}:\n",
       " [0.07935357985067698,0.9206464201493231]                                                \n",
       " 2x2 Array{Float64,2}:\n",
       " 0.00874852  0.991251\n",
       " 1.0         0.0                            \n",
       " 2x2x2 Array{Float64,3}:\n",
       "[:, :, 1] =\n",
       " 1.0  0.0\n",
       " 0.0  0.0\n",
       "\n",
       "[:, :, 2] =\n",
       " 0.0  1.0\n",
       " 1.0  0.0"
      ]
     },
     "execution_count": 25,
     "metadata": {},
     "output_type": "execute_result"
    }
   ],
   "source": [
    "thetac"
   ]
  },
  {
   "cell_type": "code",
   "execution_count": 27,
   "metadata": {
    "collapsed": false
   },
   "outputs": [
    {
     "data": {
      "text/plain": [
       "3-element Array{Any,1}:\n",
       " [0.3333333333333333,0.6666666666666666]                                                 \n",
       " 2x2 Array{Float64,2}:\n",
       " 0.5  0.5\n",
       " 1.0  0.0                                               \n",
       " 2x2x2 Array{Float64,3}:\n",
       "[:, :, 1] =\n",
       " 1.0  0.0\n",
       " 0.0  0.0\n",
       "\n",
       "[:, :, 2] =\n",
       " 0.0  1.0\n",
       " 1.0  0.0"
      ]
     },
     "execution_count": 27,
     "metadata": {},
     "output_type": "execute_result"
    }
   ],
   "source": [
    "even"
   ]
  },
  {
   "cell_type": "markdown",
   "metadata": {},
   "source": [
    "### 4.2.2 CGMP."
   ]
  },
  {
   "cell_type": "code",
   "execution_count": 28,
   "metadata": {
    "collapsed": false
   },
   "outputs": [
    {
     "name": "stdout",
     "output_type": "stream",
     "text": [
      "elapsed time: 15.459707581 seconds\n",
      "Running Dmitry's BFGS method on the even process!\n",
      "\n",
      "Iterations                 Time           Norm(grad)   Norm(true - found)\n",
      "         4            23.687618            15.459708            23.185248\n"
     ]
    }
   ],
   "source": [
    "# BFGS.\n",
    "# Initialize parameters.\n",
    "its = 0\n",
    "thetac = cgmpGuess\n",
    "n = length(thetac[2][1,:]) # Hidden states\n",
    "m = length(thetac[3][1,1,:]) # Observed states\n",
    "T = 5\n",
    "\n",
    "(f,g,gv,H) = obj(thetac,cgmpY[1:T])\n",
    "B = eye(length(gv))\n",
    "d = []\n",
    "tic();\n",
    "while (its < 4 && norm(gv,2)>1.0e-2)\n",
    "    (f,g,gv,H) = obj(thetac,cgmpY[1:T])\n",
    "    gv = [g[1][:], g[2][:], g[3][:]]\n",
    "    d = B \\ (-gv)\n",
    "\n",
    "    # Backtracking linesearch.\n",
    "    alpha = .01;\n",
    "    mu = 10^-1.0;\n",
    "    th = thetaunshaper(thetac)\n",
    "    (newf,newg,newgv,_) = obj(thetashaper(abs(th+alpha*d),n,m),cgmpY[1:T]);\n",
    "    while newf > f + (alpha*mu)*(dot(gv,d))\n",
    "        (newf,newg,newgv,_) = obj(thetashaper(abs(th+alpha*d),n,m),cgmpY[1:T]);\n",
    "        alpha = alpha/2;\n",
    "    end\n",
    "    \n",
    "    # Update x.\n",
    "    thetan = thetac + thetashaper(alpha*d,n,m)\n",
    "    thetan[1] = abs(thetan[1])\n",
    "    thetan[2] = abs(thetan[2])\n",
    "    thetan[3] = abs(thetan[3])\n",
    "    \n",
    "    # Normalize.\n",
    "    thetan[1] /= sum(thetan[1])\n",
    "    for i in 1:n\n",
    "        if sum(thetan[2][i,:]) != 0\n",
    "            thetan[2][i,:] /= sum(thetan[2][i,:])\n",
    "        end\n",
    "    end\n",
    "    for k in 1:m\n",
    "        for i in 1:n\n",
    "            if sum(thetan[3][i,:,k]) != 0\n",
    "                thetan[3][i,:,k] /= sum(thetan[3][i,:,k])\n",
    "            end\n",
    "        end\n",
    "    end\n",
    "    \n",
    "    thetac = thetan\n",
    "    \n",
    "    \n",
    "    # Perform the BFGS update.\n",
    "    s = alpha*d\n",
    "    y = newgv - gv\n",
    "    B = B + (y*y') / dot(y,s) - ((B*s)*(s'*B)) / dot(s,B*s)\n",
    "\n",
    "    # Increment and store data.\n",
    "    its += 1\n",
    "end\n",
    "tim = toc();\n",
    "\n",
    "print(\"Running Dmitry's BFGS method on the even process!\\n\\n\")\n",
    "@printf \"%10s %20s %20s %20s\\n\" \"Iterations\" \"Time\" \"Norm(grad)\" \"Norm(true - found)\"\n",
    "tr = thetaunshaper(cgmp)\n",
    "@printf \"%10d %20f %20f %20f\\n\" its norm(gv,2) tim norm(tr[n+1:end] - gv[n+1:end],2)"
   ]
  },
  {
   "cell_type": "markdown",
   "metadata": {},
   "source": [
    "### Inferred parameters."
   ]
  },
  {
   "cell_type": "code",
   "execution_count": 29,
   "metadata": {
    "collapsed": false
   },
   "outputs": [
    {
     "data": {
      "text/plain": [
       "3-element Array{Any,1}:\n",
       " [0.34605151222912617,0.029073980886746335,0.256393108183601,0.3684813987005266]                                                                                                                                 \n",
       " 4x4 Array{Float64,2}:\n",
       " 0.076973   0.923027  0.0       0.0     \n",
       " 0.541069   0.0       0.458931  0.0     \n",
       " 0.0        0.0       0.259383  0.740617\n",
       " 0.0158367  0.0       0.984163  0.0                            \n",
       " 4x4x2 Array{Float64,3}:\n",
       "[:, :, 1] =\n",
       " 0.0  1.0  0.0  0.0\n",
       " 0.0  0.0  1.0  0.0\n",
       " 0.0  0.0  1.0  0.0\n",
       " 0.0  0.0  1.0  0.0\n",
       "\n",
       "[:, :, 2] =\n",
       " 1.0  0.0  0.0  0.0\n",
       " 1.0  0.0  0.0  0.0\n",
       " 0.0  0.0  0.0  1.0\n",
       " 1.0  0.0  0.0  0.0"
      ]
     },
     "execution_count": 29,
     "metadata": {},
     "output_type": "execute_result"
    }
   ],
   "source": [
    "thetac"
   ]
  },
  {
   "cell_type": "code",
   "execution_count": 30,
   "metadata": {
    "collapsed": false
   },
   "outputs": [
    {
     "data": {
      "text/plain": [
       "3-element Array{Any,1}:\n",
       " [0.3333333333333333,0.16666666666666666,0.3333333333333333,0.16666666666666666]                                                                                                                                 \n",
       " 4x4 Array{Float64,2}:\n",
       " 0.5    0.5  0.0    0.0\n",
       " 0.995  0.0  0.005  0.0\n",
       " 0.0    0.0  0.5    0.5\n",
       " 0.005  0.0  0.995  0.0                                                                                           \n",
       " 4x4x2 Array{Float64,3}:\n",
       "[:, :, 1] =\n",
       " 0.0  1.0  0.0  0.0\n",
       " 0.0  0.0  1.0  0.0\n",
       " 0.0  0.0  1.0  0.0\n",
       " 0.0  0.0  1.0  0.0\n",
       "\n",
       "[:, :, 2] =\n",
       " 1.0  0.0  0.0  0.0\n",
       " 1.0  0.0  0.0  0.0\n",
       " 0.0  0.0  0.0  1.0\n",
       " 1.0  0.0  0.0  0.0"
      ]
     },
     "execution_count": 30,
     "metadata": {},
     "output_type": "execute_result"
    }
   ],
   "source": [
    "cgmp"
   ]
  }
 ],
 "metadata": {
  "kernelspec": {
   "display_name": "Julia 0.4.0",
   "language": "julia",
   "name": "julia-0.4"
  },
  "language_info": {
   "file_extension": ".jl",
   "mimetype": "application/julia",
   "name": "julia",
   "version": "0.4.0"
  }
 },
 "nbformat": 4,
 "nbformat_minor": 0
}
